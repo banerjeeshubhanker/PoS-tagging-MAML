{
 "cells": [
  {
   "cell_type": "code",
   "execution_count": 1,
   "id": "honest-elizabeth",
   "metadata": {},
   "outputs": [],
   "source": [
    "import pickle\n",
    "import numpy as np\n",
    "pickle_file = open(\"results.pkl\", \"rb\")\n",
    "\n",
    "objects = []\n",
    "\n",
    "while True:\n",
    "\n",
    "    try:\n",
    "\n",
    "        objects.append(pickle.load(pickle_file))\n",
    "\n",
    "    except EOFError:\n",
    "\n",
    "        break\n",
    "\n",
    "pickle_file.close()"
   ]
  },
  {
   "cell_type": "code",
   "execution_count": 2,
   "id": "industrial-press",
   "metadata": {},
   "outputs": [
    {
     "name": "stdout",
     "output_type": "stream",
     "text": [
      "{tensor(15): 1, tensor(15): 1, tensor(11): 1, tensor(14): 1, tensor(10): 1, tensor(11): 1, tensor(14): 1, tensor(7): 1, tensor(0): 1, tensor(18): 1, tensor(5): 1, tensor(18): 1, tensor(10): 1, tensor(10): 1, tensor(11): 1, tensor(5): 1, tensor(18): 1, tensor(5): 1, tensor(1): 1, tensor(5): 1, tensor(1): 1, tensor(14): 1, tensor(18): 1, tensor(10): 1, tensor(18): 1, tensor(5): 1, tensor(0): 1, tensor(18): 1, tensor(11): 1, tensor(14): 1, tensor(10): 1, tensor(17): 1, tensor(11): 1, tensor(15): 1, tensor(18): 1, tensor(14): 1, tensor(4): 1, tensor(4): 1, tensor(10): 1, tensor(3): 1, tensor(5): 1, tensor(18): 1, tensor(18): 1, tensor(3): 1, tensor(5): 1, tensor(18): 1, tensor(12): 1, tensor(10): 1, tensor(7): 1, tensor(14): 1, tensor(12): 1, tensor(18): 1, tensor(7): 1, tensor(7): 1, tensor(14): 1, tensor(5): 1, tensor(18): 1, tensor(12): 1, tensor(5): 1, tensor(18): 1, tensor(10): 1, tensor(3): 1, tensor(5): 1, tensor(18): 1, tensor(18): 1, tensor(5): 1, tensor(18): 1, tensor(7): 1, tensor(14): 1, tensor(5): 1, tensor(18): 1, tensor(3): 1, tensor(10): 1, tensor(3): 1, tensor(8): 1, tensor(3): 1, tensor(5): 1, tensor(18): 1, tensor(3): 1, tensor(5): 1, tensor(18): 1, tensor(12): 1, tensor(7): 1, tensor(0): 1, tensor(10): 1, tensor(3): 1, tensor(5): 1, tensor(18): 1, tensor(7): 1, tensor(14): 1, tensor(12): 1, tensor(18): 1, tensor(18): 1, tensor(5): 1, tensor(15): 1, tensor(15): 1, tensor(5): 1, tensor(18): 1, tensor(8): 1, tensor(11): 1, tensor(15): 1, tensor(12): 1, tensor(18): 1, tensor(7): 1, tensor(0): 1, tensor(8): 1, tensor(5): 1, tensor(18): 1, tensor(12): 1, tensor(18): 1, tensor(18): 1, tensor(8): 1, tensor(11): 1, tensor(0): 1, tensor(8): 1, tensor(3): 1, tensor(18): 1, tensor(18): 1, tensor(0): 1, tensor(8): 1, tensor(18): 1, tensor(18): 1, tensor(0): 1, tensor(12): 1, tensor(18): 1, tensor(10): 1, tensor(17): 1, tensor(5): 1, tensor(10): 1, tensor(8): 1, tensor(12): 1, tensor(18): 1, tensor(7): 1, tensor(14): 1, tensor(15): 1, tensor(10): 1, tensor(8): 1, tensor(3): 1, tensor(18): 1, tensor(5): 1, tensor(18): 1, tensor(7): 1, tensor(14): 1, tensor(12): 1, tensor(18): 1, tensor(11): 1, tensor(15): 1, tensor(18): 1, tensor(12): 1, tensor(18): 1, tensor(15): 1, tensor(10): 1, tensor(8): 1, tensor(3): 1, tensor(5): 1, tensor(12): 1, tensor(18): 1, tensor(12): 1, tensor(10): 1, tensor(8): 1, tensor(18): 1, tensor(5): 1, tensor(18): 1, tensor(7): 1, tensor(14): 1, tensor(12): 1, tensor(18): 1, tensor(11): 1, tensor(15): 1, tensor(18): 1, tensor(12): 1, tensor(18): 1, tensor(15): 1, tensor(10): 1, tensor(3): 1, tensor(5): 1, tensor(18): 1, tensor(18): 1, tensor(5): 1, tensor(18): 1, tensor(7): 1, tensor(14): 1, tensor(5): 1, tensor(18): 1, tensor(3): 1, tensor(5): 1, tensor(18): 1, tensor(3): 1, tensor(5): 1, tensor(18): 1, tensor(12): 1, tensor(10): 1, tensor(8): 1, tensor(18): 1, tensor(5): 1, tensor(18): 1, tensor(7): 1, tensor(14): 1, tensor(12): 1, tensor(18): 1, tensor(11): 1, tensor(15): 1, tensor(18): 1, tensor(12): 1, tensor(18): 1, tensor(15): 1, tensor(10): 1, tensor(3): 1, tensor(5): 1, tensor(18): 1, tensor(18): 1, tensor(5): 1, tensor(18): 1, tensor(7): 1, tensor(14): 1, tensor(5): 1, tensor(18): 1, tensor(3): 1, tensor(5): 1, tensor(18): 1, tensor(3): 1, tensor(5): 1, tensor(18): 1, tensor(12): 1, tensor(10): 1, tensor(8): 1, tensor(3): 1, tensor(5): 1, tensor(18): 1, tensor(18): 1, tensor(5): 1, tensor(18): 1, tensor(7): 1, tensor(14): 1, tensor(5): 1, tensor(18): 1, tensor(3): 1, tensor(5): 1, tensor(18): 1, tensor(3): 1, tensor(5): 1, tensor(18): 1, tensor(12): 1, tensor(10): 1, tensor(17): 1, tensor(3): 1, tensor(5): 1, tensor(18): 1, tensor(18): 1, tensor(7): 1, tensor(14): 1, tensor(7): 1, tensor(0): 1, tensor(8): 1, tensor(3): 1, tensor(18): 1, tensor(5): 1, tensor(10): 1, tensor(8): 1, tensor(3): 1, tensor(18): 1, tensor(10): 1, tensor(3): 1, tensor(5): 1, tensor(18): 1, tensor(18): 1, tensor(7): 1, tensor(14): 1, tensor(3): 1, tensor(18): 1, tensor(5): 1, tensor(10): 1, tensor(8): 1, tensor(3): 1, tensor(8): 1, tensor(3): 1, tensor(18): 1, tensor(10): 1, tensor(8): 1, tensor(3): 1, tensor(5): 1, tensor(18): 1, tensor(18): 1, tensor(7): 1, tensor(14): 1, tensor(3): 1, tensor(18): 1, tensor(8): 1, tensor(7): 1, tensor(0): 1, tensor(5): 1, tensor(10): 1, tensor(8): 1, tensor(3): 1, tensor(8): 1, tensor(3): 1, tensor(18): 1, tensor(10): 1, tensor(10): 1, tensor(15): 1, tensor(18): 1, tensor(18): 1, tensor(14): 1, tensor(5): 1, tensor(18): 1, tensor(4): 1, tensor(4): 1, tensor(10): 1, tensor(14): 1, tensor(15): 1, tensor(5): 1, tensor(12): 1, tensor(18): 1, tensor(18): 1, tensor(8): 1, tensor(12): 1, tensor(18): 1, tensor(7): 1, tensor(0): 1, tensor(10): 1, tensor(12): 1, tensor(18): 1, tensor(0): 1, tensor(0): 1, tensor(11): 1, tensor(0): 1, tensor(5): 1, tensor(18): 1, tensor(0): 1, tensor(12): 1, tensor(7): 1, tensor(14): 1, tensor(18): 1, tensor(8): 1, tensor(18): 1, tensor(17): 1, tensor(0): 1, tensor(5): 1, tensor(18): 1, tensor(8): 1, tensor(18): 1, tensor(0): 1, tensor(12): 1, tensor(18): 1, tensor(10): 1, tensor(8): 1, tensor(5): 1, tensor(7): 1, tensor(14): 1, tensor(15): 1, tensor(18): 1, tensor(5): 1, tensor(18): 1, tensor(7): 1, tensor(18): 1, tensor(7): 1, tensor(0): 1, tensor(0): 1, tensor(10): 1, tensor(14): 1, tensor(18): 1, tensor(4): 1, tensor(5): 1, tensor(5): 1, tensor(18): 1, tensor(5): 1, tensor(18): 1, tensor(5): 1, tensor(18): 1, tensor(12): 1, tensor(18): 1, tensor(7): 1, tensor(0): 1, tensor(8): 1, tensor(14): 1, tensor(18): 1, tensor(5): 1, tensor(15): 1, tensor(5): 1, tensor(18): 1, tensor(10): 1, tensor(18): 1, tensor(3): 1, tensor(18): 1, tensor(7): 1, tensor(3): 1, tensor(3): 1, tensor(17): 1, tensor(7): 1, tensor(14): 1, tensor(12): 1, tensor(18): 1, tensor(12): 1, tensor(0): 1, tensor(10): 1, tensor(15): 1, tensor(7): 1, tensor(14): 1, tensor(0): 1, tensor(5): 1, tensor(12): 1, tensor(18): 1, tensor(1): 1, tensor(5): 1, tensor(18): 1, tensor(5): 1, tensor(0): 1, tensor(10): 1, tensor(18): 1, tensor(10): 1, tensor(12): 1, tensor(18): 1, tensor(5): 1, tensor(18): 1, tensor(18): 1, tensor(5): 1, tensor(7): 1, tensor(14): 1, tensor(4): 1, tensor(5): 1, tensor(18): 1, tensor(0): 1, tensor(10): 1, tensor(5): 1, tensor(18): 1, tensor(10): 1, tensor(14): 1, tensor(18): 1, tensor(0): 1, tensor(5): 1, tensor(18): 1, tensor(18): 1, tensor(12): 1, tensor(18): 1, tensor(18): 1, tensor(10): 1, tensor(12): 1, tensor(18): 1, tensor(8): 1, tensor(12): 1, tensor(18): 1, tensor(5): 1, tensor(8): 1, tensor(14): 1, tensor(15): 1, tensor(0): 1, tensor(5): 1, tensor(18): 1, tensor(18): 1, tensor(5): 1, tensor(4): 1, tensor(18): 1, tensor(18): 1, tensor(5): 1, tensor(18): 1, tensor(5): 1, tensor(18): 1, tensor(18): 1, tensor(10): 1, tensor(5): 1, tensor(18): 1, tensor(10): 1, tensor(14): 1, tensor(12): 1, tensor(18): 1, tensor(5): 1, tensor(18): 1, tensor(14): 1, tensor(5): 1, tensor(18): 1, tensor(5): 1, tensor(18): 1, tensor(17): 1, tensor(7): 1, tensor(14): 1, tensor(15): 1, tensor(5): 1, tensor(18): 1, tensor(0): 1, tensor(18): 1, tensor(18): 1, tensor(18): 1, tensor(7): 1, tensor(14): 1, tensor(18): 1, tensor(5): 1, tensor(5): 1, tensor(12): 1, tensor(18): 1, tensor(10): 1, tensor(11): 1, tensor(15): 1, tensor(18): 1, tensor(18): 1, tensor(18): 1, tensor(0): 1, tensor(8): 1, tensor(4): 1, tensor(5): 1, tensor(3): 1, tensor(18): 1, tensor(5): 1, tensor(5): 1, tensor(12): 1, tensor(18): 1, tensor(10): 1, tensor(17): 1, tensor(14): 1, tensor(15): 1, tensor(5): 1, tensor(18): 1, tensor(7): 1, tensor(0): 1, tensor(5): 1, tensor(18): 1, tensor(10): 1, tensor(5): 1, tensor(18): 1, tensor(5): 1, tensor(18): 1, tensor(7): 1, tensor(14): 1, tensor(12): 1, tensor(18): 1, tensor(10): 1, tensor(14): 1, tensor(12): 1, tensor(18): 1, tensor(12): 1, tensor(18): 1, tensor(5): 1, tensor(18): 1, tensor(8): 1, tensor(14): 1, tensor(15): 1, tensor(5): 1, tensor(12): 1, tensor(18): 1, tensor(5): 1, tensor(18): 1, tensor(18): 1, tensor(0): 1, tensor(10): 1, tensor(4): 1, tensor(5): 1, tensor(18): 1, tensor(0): 1, tensor(5): 1, tensor(18): 1, tensor(10): 1, tensor(7): 1, tensor(14): 1, tensor(12): 1, tensor(18): 1, tensor(5): 1, tensor(0): 1, tensor(7): 1, tensor(14): 1, tensor(5): 1, tensor(18): 1, tensor(12): 1, tensor(10): 1, tensor(11): 1, tensor(18): 1, tensor(18): 1, tensor(7): 1, tensor(18): 1, tensor(5): 1, tensor(18): 1, tensor(18): 1, tensor(10): 1, tensor(18): 1, tensor(8): 1, tensor(18): 1, tensor(12): 1, tensor(18): 1, tensor(5): 1, tensor(7): 1, tensor(14): 1, tensor(18): 1, tensor(5): 1, tensor(18): 1, tensor(10): 1, tensor(11): 1, tensor(15): 1, tensor(15): 1, tensor(10): 1, tensor(12): 1, tensor(18): 1, tensor(18): 1, tensor(7): 1, tensor(14): 1, tensor(5): 1, tensor(5): 1, tensor(12): 1, tensor(18): 1, tensor(10): 1, tensor(11): 1, tensor(15): 1, tensor(12): 1, tensor(18): 1, tensor(3): 1, tensor(12): 1, tensor(18): 1, tensor(18): 1, tensor(18): 1, tensor(5): 1, tensor(18): 1, tensor(7): 1, tensor(14): 1, tensor(18): 1, tensor(8): 1, tensor(7): 1, tensor(14): 1, tensor(18): 1, tensor(5): 1, tensor(10): 1, tensor(11): 1, tensor(18): 1, tensor(18): 1, tensor(7): 1, tensor(18): 1, tensor(5): 1, tensor(12): 1, tensor(12): 1, tensor(18): 1, tensor(8): 1, tensor(18): 1, tensor(10): 1, tensor(14): 1, tensor(12): 1, tensor(18): 1, tensor(18): 1, tensor(10): 1, tensor(18): 1, tensor(8): 1, tensor(18): 1, tensor(5): 1, tensor(18): 1, tensor(4): 1, tensor(5): 1, tensor(3): 1, tensor(18): 1, tensor(18): 1, tensor(10): 1, tensor(11): 1, tensor(18): 1, tensor(18): 1, tensor(0): 1, tensor(7): 1, tensor(18): 1, tensor(5): 1, tensor(18): 1, tensor(12): 1, tensor(5): 1, tensor(18): 1, tensor(8): 1, tensor(18): 1, tensor(18): 1, tensor(0): 1, tensor(11): 1, tensor(15): 1, tensor(18): 1, tensor(0): 1, tensor(12): 1, tensor(18): 1, tensor(17): 1, tensor(0): 1, tensor(10): 1, tensor(0): 1, tensor(8): 1, tensor(0): 1, tensor(10): 1, tensor(14): 1, tensor(18): 1, tensor(0): 1, tensor(17): 1, tensor(7): 1, tensor(14): 1, tensor(12): 1, tensor(3): 1, tensor(18): 1, tensor(5): 1, tensor(18): 1, tensor(5): 1, tensor(18): 1, tensor(10): 1, tensor(17): 1, tensor(7): 1, tensor(14): 1, tensor(3): 1, tensor(18): 1, tensor(0): 1, tensor(5): 1, tensor(18): 1, tensor(14): 1, tensor(18): 1, tensor(5): 1, tensor(12): 1, tensor(18): 1, tensor(0): 1, tensor(10): 1, tensor(18): 1, tensor(18): 1, tensor(10): 1, tensor(18): 1, tensor(8): 1, tensor(18): 1, tensor(10): 1, tensor(11): 1, tensor(15): 1, tensor(18): 1, tensor(0): 1, tensor(18): 1, tensor(8): 1, tensor(0): 1, tensor(10): 1, tensor(0): 1, tensor(8): 1, tensor(0): 1, tensor(10): 1, tensor(7): 1, tensor(12): 1, tensor(18): 1, tensor(5): 1, tensor(18): 1, tensor(14): 1, tensor(12): 1, tensor(18): 1, tensor(10): 1, tensor(18): 1, tensor(8): 1, tensor(18): 1, tensor(10): 1, tensor(7): 1, tensor(14): 1, tensor(18): 1, tensor(5): 1, tensor(18): 1, tensor(5): 1, tensor(18): 1, tensor(0): 1, tensor(5): 1, tensor(18): 1, tensor(12): 1, tensor(18): 1, tensor(10): 1, tensor(18): 1, tensor(11): 1, tensor(0): 1, tensor(7): 1, tensor(14): 1, tensor(18): 1, tensor(18): 1, tensor(5): 1, tensor(4): 1, tensor(10): 1, tensor(18): 1, tensor(1): 1, tensor(10): 1, tensor(4): 1, tensor(7): 1, tensor(14): 1, tensor(5): 1, tensor(18): 1, tensor(0): 1, tensor(5): 1, tensor(18): 1, tensor(0): 1, tensor(7): 1, tensor(18): 1, tensor(10): 1, tensor(14): 1, tensor(12): 1, tensor(18): 1, tensor(15): 1, tensor(5): 1, tensor(4): 1, tensor(10): 1, tensor(5): 1, tensor(18): 1, tensor(10): 1, tensor(10): 1, tensor(17): 1, tensor(14): 1, tensor(12): 1, tensor(18): 1, tensor(12): 1, tensor(18): 1, tensor(5): 1, tensor(10): 1, tensor(12): 1, tensor(18): 1, tensor(7): 1, tensor(14): 1, tensor(15): 1, tensor(4): 1, tensor(0): 1, tensor(5): 1, tensor(12): 1, tensor(18): 1, tensor(7): 1, tensor(14): 1, tensor(5): 1, tensor(10): 1, tensor(14): 1, tensor(5): 1, tensor(18): 1, tensor(10): 1, tensor(17): 1, tensor(14): 1, tensor(18): 1, tensor(5): 1, tensor(18): 1, tensor(5): 1, tensor(12): 1, tensor(18): 1, tensor(10): 1, tensor(4): 1, tensor(8): 1, tensor(11): 1, tensor(0): 1, tensor(5): 1, tensor(18): 1, tensor(10): 1, tensor(12): 1, tensor(0): 1, tensor(11): 1, tensor(7): 1, tensor(18): 1, tensor(18): 1, tensor(10): 1, tensor(0): 1, tensor(11): 1, tensor(5): 1, tensor(18): 1, tensor(8): 1, tensor(15): 1, tensor(5): 1, tensor(18): 1, tensor(4): 1, tensor(14): 1, tensor(5): 1, tensor(0): 1, tensor(18): 1, tensor(10): 1, tensor(5): 1, tensor(0): 1, tensor(18): 1, tensor(11): 1, tensor(14): 1, tensor(18): 1, tensor(5): 1, tensor(0): 1, tensor(18): 1, tensor(8): 1, tensor(15): 1, tensor(14): 1, tensor(14): 1, tensor(10): 1, tensor(17): 1, tensor(11): 1, tensor(5): 1, tensor(15): 1, tensor(0): 1, tensor(8): 1, tensor(17): 1, tensor(14): 1, tensor(8): 1, tensor(14): 1, tensor(12): 1, tensor(18): 1, tensor(10): 1, tensor(12): 1, tensor(18): 1, tensor(5): 1, tensor(0): 1, tensor(8): 1, tensor(0): 1, tensor(18): 1, tensor(10): 1, tensor(4): 1, tensor(15): 1, tensor(12): 1, tensor(12): 1, tensor(18): 1, tensor(14): 1, tensor(10): 1, tensor(11): 1, tensor(14): 1, tensor(0): 1, tensor(0): 1, tensor(18): 1, tensor(10): 1, tensor(8): 1, tensor(7): 1, tensor(14): 1, tensor(15): 1, tensor(5): 1, tensor(12): 1, tensor(18): 1, tensor(12): 1, tensor(17): 1, tensor(7): 1, tensor(14): 1, tensor(15): 1, tensor(5): 1, tensor(12): 1, tensor(18): 1, tensor(18): 1, tensor(7): 1, tensor(14): 1, tensor(5): 1, tensor(18): 1, tensor(12): 1, tensor(18): 1, tensor(7): 1, tensor(14): 1, tensor(1): 1, tensor(5): 1, tensor(18): 1, tensor(5): 1, tensor(10): 1, tensor(11): 1, tensor(18): 1, tensor(5): 1, tensor(17): 1, tensor(18): 1, tensor(5): 1, tensor(18): 1, tensor(12): 1, tensor(3): 1, tensor(18): 1, tensor(7): 1, tensor(14): 1, tensor(5): 1, tensor(3): 1, tensor(8): 1, tensor(3): 1, tensor(8): 1, tensor(7): 1, tensor(14): 1, tensor(5): 1, tensor(5): 1, tensor(12): 1, tensor(3): 1, tensor(18): 1, tensor(18): 1, tensor(10): 1, tensor(5): 1, tensor(18): 1, tensor(7): 1, tensor(18): 1, tensor(5): 1, tensor(18): 1, tensor(5): 1, tensor(12): 1, tensor(18): 1, tensor(0): 1, tensor(10): 1, tensor(4): 1, tensor(11): 1, tensor(14): 1, tensor(3): 1, tensor(10): 1, tensor(3): 1, tensor(18): 1, tensor(10): 1, tensor(18): 1, tensor(15): 1, tensor(11): 1, tensor(4): 1, tensor(14): 1, tensor(10): 1, tensor(17): 1, tensor(11): 1, tensor(14): 1, tensor(18): 1, tensor(10): 1, tensor(5): 1, tensor(12): 1, tensor(0): 1, tensor(18): 1, tensor(11): 1, tensor(11): 1, tensor(4): 1, tensor(0): 1, tensor(10): 1, tensor(14): 1, tensor(5): 1, tensor(18): 1, tensor(12): 1, tensor(11): 1, tensor(0): 1, tensor(5): 1, tensor(1): 1, tensor(7): 1, tensor(18): 1, tensor(0): 1, tensor(5): 1, tensor(12): 1, tensor(18): 1, tensor(5): 1, tensor(18): 1, tensor(7): 1, tensor(14): 1, tensor(15): 1, tensor(18): 1, tensor(12): 1, tensor(18): 1, tensor(5): 1, tensor(1): 1, tensor(7): 1, tensor(18): 1, tensor(5): 1, tensor(18): 1, tensor(18): 1, tensor(12): 1, tensor(18): 1, tensor(12): 1, tensor(5): 1, tensor(18): 1, tensor(7): 1, tensor(18): 1, tensor(5): 1, tensor(12): 1, tensor(18): 1, tensor(10): 1, tensor(18): 1, tensor(8): 1, tensor(18): 1, tensor(11): 1, tensor(0): 1, tensor(7): 1, tensor(14): 1, tensor(10): 1, tensor(14): 1, tensor(18): 1, tensor(10): 1, tensor(18): 1, tensor(15): 1, tensor(14): 1, tensor(18): 1, tensor(8): 1, tensor(18): 1, tensor(14): 1, tensor(14): 1, tensor(18): 1, tensor(10): 1, tensor(15): 1, tensor(8): 1, tensor(15): 1, tensor(7): 1, tensor(11): 1, tensor(14): 1, tensor(15): 1, tensor(10): 1, tensor(14): 1, tensor(15): 1, tensor(15): 1, tensor(10): 1, tensor(17): 1, tensor(11): 1, tensor(14): 1, tensor(15): 1, tensor(10): 1, tensor(4): 1, tensor(11): 1, tensor(18): 1, tensor(4): 1, tensor(14): 1, tensor(8): 1, tensor(15): 1, tensor(14): 1, tensor(5): 1, tensor(18): 1, tensor(18): 1, tensor(5): 1, tensor(15): 1, tensor(10): 1, tensor(17): 1, tensor(12): 1, tensor(11): 1, tensor(4): 1, tensor(14): 1, tensor(10): 1, tensor(4): 1, tensor(15): 1, tensor(11): 1, tensor(14): 1, tensor(5): 1, tensor(18): 1, tensor(10): 1, tensor(17): 1, tensor(11): 1, tensor(12): 1, tensor(14): 1, tensor(0): 1, tensor(10): 1, tensor(17): 1, tensor(11): 1, tensor(18): 1, tensor(14): 1, tensor(5): 1, tensor(18): 1, tensor(18): 1, tensor(10): 1, tensor(11): 1, tensor(15): 1, tensor(14): 1, tensor(10): 1, tensor(17): 1, tensor(11): 1, tensor(12): 1, tensor(4): 1, tensor(0): 1, tensor(10): 1, tensor(17): 1, tensor(12): 1, tensor(14): 1, tensor(4): 1, tensor(10): 1, tensor(17): 1, tensor(14): 1, tensor(5): 1, tensor(18): 1, tensor(10): 1, tensor(12): 1, tensor(0): 1, tensor(18): 1, tensor(1): 1, tensor(1): 1, tensor(11): 1, tensor(11): 1, tensor(0): 1, tensor(5): 1, tensor(18): 1, tensor(0): 1, tensor(18): 1, tensor(5): 1, tensor(0): 1, tensor(18): 1, tensor(10): 1, tensor(14): 1, tensor(8): 1, tensor(11): 1, tensor(5): 1, tensor(3): 1, tensor(0): 1, tensor(8): 1, tensor(4): 1, tensor(0): 1, tensor(0): 1, tensor(18): 1, tensor(10): 1, tensor(18): 1, tensor(11): 1, tensor(5): 1, tensor(0): 1, tensor(18): 1, tensor(1): 1, tensor(8): 1, tensor(12): 1, tensor(18): 1, tensor(14): 1, tensor(7): 1, tensor(5): 1, tensor(18): 1, tensor(10): 1, tensor(17): 1, tensor(15): 1, tensor(11): 1, tensor(5): 1, tensor(3): 1, tensor(0): 1, tensor(18): 1, tensor(5): 1, tensor(0): 1, tensor(18): 1, tensor(5): 1, tensor(1): 1, tensor(14): 1, tensor(18): 1, tensor(0): 1, tensor(18): 1, tensor(0): 1, tensor(18): 1, tensor(1): 1, tensor(5): 1, tensor(1): 1, tensor(10): 1, tensor(0): 1, tensor(5): 1, tensor(18): 1, tensor(11): 1, tensor(18): 1, tensor(8): 1, tensor(18): 1, tensor(10): 1, tensor(0): 1, tensor(18): 1, tensor(1): 1, tensor(1): 1, tensor(3): 1, tensor(10): 1, tensor(5): 1, tensor(15): 1, tensor(14): 1, tensor(1): 1, tensor(1): 1, tensor(1): 1, tensor(10): 1, tensor(18): 1, tensor(7): 1, tensor(14): 1, tensor(5): 1, tensor(18): 1, tensor(5): 1, tensor(1): 1, tensor(1): 1, tensor(5): 1, tensor(18): 1, tensor(12): 1, tensor(18): 1, tensor(10): 1, tensor(14): 1, tensor(12): 1, tensor(18): 1, tensor(7): 1, tensor(14): 1, tensor(4): 1, tensor(15): 1, tensor(5): 1, tensor(7): 1, tensor(0): 1, tensor(10): 1, tensor(7): 1, tensor(14): 1, tensor(15): 1, tensor(10): 1, tensor(4): 1, tensor(11): 1, tensor(14): 1, tensor(12): 1, tensor(17): 1, tensor(12): 1, tensor(18): 1, tensor(5): 1, tensor(18): 1, tensor(18): 1, tensor(18): 1, tensor(10): 1, tensor(17): 1, tensor(15): 1, tensor(11): 1, tensor(14): 1, tensor(12): 1, tensor(0): 1, tensor(18): 1, tensor(10): 1, tensor(15): 1, tensor(15): 1, tensor(8): 1, tensor(7): 1, tensor(4): 1, tensor(11): 1, tensor(14): 1, tensor(10): 1, tensor(7): 1, tensor(8): 1, tensor(5): 1, tensor(0): 1, tensor(18): 1, tensor(8): 1, tensor(18): 1, tensor(8): 1, tensor(18): 1, tensor(14): 1, tensor(18): 1, tensor(8): 1, tensor(18): 1, tensor(0): 1, tensor(18): 1, tensor(11): 1, tensor(14): 1, tensor(4): 1, tensor(10): 1, tensor(17): 1, tensor(15): 1, tensor(11): 1, tensor(4): 1, tensor(5): 1, tensor(18): 1, tensor(14): 1, tensor(5): 1, tensor(0): 1, tensor(18): 1, tensor(5): 1, tensor(18): 1, tensor(10): 1, tensor(18): 1, tensor(8): 1, tensor(18): 1, tensor(10): 1, tensor(5): 1, tensor(0): 1, tensor(18): 1, tensor(11): 1, tensor(14): 1, tensor(10): 1, tensor(15): 1, tensor(11): 1, tensor(14): 1, tensor(10): 1, tensor(8): 1, tensor(12): 1, tensor(15): 1, tensor(11): 1, tensor(12): 1, tensor(14): 1, tensor(5): 1, tensor(18): 1, tensor(12): 1, tensor(0): 1, tensor(18): 1, tensor(10): 1, tensor(15): 1, tensor(14): 1, tensor(7): 1, tensor(4): 1, tensor(4): 1, tensor(10): 1, tensor(14): 1, tensor(18): 1, tensor(18): 1, tensor(10): 1, tensor(11): 1, tensor(15): 1, tensor(1): 1, tensor(7): 1, tensor(7): 1, tensor(14): 1, tensor(5): 1, tensor(12): 1, tensor(3): 1, tensor(18): 1, tensor(10): 1, tensor(18): 1, tensor(0): 1, tensor(10): 1, tensor(7): 1, tensor(14): 1, tensor(15): 1, tensor(10): 1, tensor(14): 1, tensor(12): 1, tensor(18): 1, tensor(0): 1, tensor(17): 1, tensor(7): 1, tensor(14): 1, tensor(15): 1, tensor(8): 1, tensor(7): 1, tensor(14): 1, tensor(15): 1, tensor(5): 1, tensor(18): 1, tensor(4): 1, tensor(5): 1, tensor(18): 1, tensor(10): 1, tensor(14): 1, tensor(15): 1, tensor(0): 1, tensor(5): 1, tensor(12): 1, tensor(18): 1, tensor(5): 1, tensor(18): 1, tensor(18): 1, tensor(5): 1, tensor(18): 1, tensor(5): 1, tensor(18): 1, tensor(18): 1, tensor(14): 1, tensor(0): 1, tensor(4): 1, tensor(5): 1, tensor(18): 1, tensor(7): 1, tensor(14): 1, tensor(0): 1, tensor(5): 1, tensor(12): 1, tensor(18): 1, tensor(8): 1, tensor(5): 1, tensor(12): 1, tensor(18): 1, tensor(18): 1, tensor(4): 1, tensor(12): 1, tensor(18): 1, tensor(18): 1, tensor(10): 1, tensor(18): 1, tensor(7): 1, tensor(14): 1, tensor(5): 1, tensor(18): 1, tensor(5): 1, tensor(18): 1, tensor(5): 1, tensor(5): 1, tensor(12): 1, tensor(18): 1, tensor(18): 1, tensor(10): 1, tensor(5): 1, tensor(5): 1, tensor(1): 1, tensor(8): 1, tensor(5): 1, tensor(5): 1, tensor(1): 1, tensor(12): 1, tensor(1): 1, tensor(10): 1, tensor(10): 1, tensor(7): 1, tensor(14): 1, tensor(12): 1, tensor(18): 1, tensor(7): 1, tensor(1): 1, tensor(10): 1, tensor(14): 1, tensor(12): 1, tensor(18): 1, tensor(0): 1, tensor(4): 1, tensor(4): 1, tensor(5): 1, tensor(18): 1, tensor(14): 1, tensor(0): 1, tensor(5): 1, tensor(18): 1, tensor(10): 1, tensor(18): 1, tensor(18): 1, tensor(15): 1, tensor(15): 1, tensor(10): 1, tensor(18): 1, tensor(0): 1, tensor(18): 1, tensor(10): 1, tensor(14): 1, tensor(5): 1, tensor(10): 1, tensor(5): 1, tensor(18): 1, tensor(12): 1, tensor(10): 1, tensor(14): 1, tensor(5): 1, tensor(18): 1, tensor(12): 1, tensor(18): 1, tensor(5): 1, tensor(18): 1, tensor(0): 1, tensor(5): 1, tensor(18): 1, tensor(10): 1, tensor(10): 1, tensor(11): 1, tensor(0): 1, tensor(7): 1, tensor(14): 1, tensor(18): 1, tensor(5): 1, tensor(18): 1, tensor(5): 1, tensor(10): 1, tensor(7): 1, tensor(1): 1, tensor(7): 1, tensor(18): 1, tensor(5): 1, tensor(18): 1, tensor(5): 1, tensor(12): 1, tensor(18): 1, tensor(10): 1, tensor(5): 1, tensor(18): 1, tensor(7): 1, tensor(14): 1, tensor(12): 1, tensor(18): 1, tensor(12): 1, tensor(18): 1, tensor(5): 1, tensor(5): 1, tensor(12): 1, tensor(18): 1, tensor(10): 1, tensor(18): 1, tensor(0): 1, tensor(15): 1, tensor(15): 1, tensor(0): 1, tensor(5): 1, tensor(18): 1, tensor(5): 1, tensor(18): 1, tensor(7): 1, tensor(0): 1, tensor(10): 1, tensor(5): 1, tensor(0): 1, tensor(18): 1, tensor(11): 1, tensor(14): 1, tensor(7): 1, tensor(0): 1, tensor(18): 1, tensor(5): 1, tensor(18): 1, tensor(1): 1, tensor(1): 1, tensor(8): 1, tensor(0): 1, tensor(18): 1, tensor(5): 1, tensor(18): 1, tensor(18): 1, tensor(1): 1, tensor(5): 1, tensor(1): 1, tensor(10): 1, tensor(0): 1, tensor(18): 1, tensor(5): 1, tensor(1): 1, tensor(8): 1, tensor(0): 1, tensor(8): 1, tensor(0): 1, tensor(18): 1, tensor(5): 1, tensor(1): 1, tensor(5): 1, tensor(1): 1, tensor(10): 1, tensor(5): 1, tensor(18): 1, tensor(18): 1, tensor(1): 1, tensor(1): 1, tensor(8): 1, tensor(12): 1, tensor(18): 1, tensor(11): 1, tensor(0): 1, tensor(18): 1, tensor(5): 1, tensor(3): 1, tensor(10): 1, tensor(0): 1, tensor(18): 1, tensor(18): 1, tensor(18): 1, tensor(10): 1, tensor(18): 1, tensor(0): 1, tensor(18): 1, tensor(5): 1, tensor(18): 1, tensor(18): 1, tensor(1): 1, tensor(10): 1, tensor(18): 1, tensor(10): 1, tensor(17): 1, tensor(11): 1, tensor(14): 1, tensor(5): 1, tensor(18): 1, tensor(8): 1, tensor(5): 1, tensor(18): 1, tensor(10): 1, tensor(18): 1, tensor(18): 1, tensor(5): 1, tensor(0): 1, tensor(18): 1, tensor(8): 1, tensor(11): 1, tensor(0): 1, tensor(5): 1, tensor(18): 1, tensor(10): 1, tensor(12): 1, tensor(11): 1, tensor(0): 1, tensor(18): 1, tensor(5): 1, tensor(18): 1, tensor(10): 1, tensor(17): 1, tensor(15): 1, tensor(14): 1, tensor(0): 1, tensor(8): 1, tensor(4): 1, tensor(0): 1, tensor(18): 1, tensor(10): 1, tensor(12): 1, tensor(0): 1, tensor(18): 1, tensor(14): 1, tensor(7): 1, tensor(12): 1, tensor(18): 1, tensor(10): 1, tensor(5): 1, tensor(0): 1, tensor(18): 1, tensor(0): 1, tensor(18): 1, tensor(14): 1, tensor(0): 1, tensor(18): 1, tensor(9): 1, tensor(1): 1, tensor(4): 1, tensor(4): 1, tensor(10): 1, tensor(4): 1, tensor(14): 1, tensor(10): 1, tensor(17): 1, tensor(11): 1, tensor(12): 1, tensor(0): 1, tensor(18): 1, tensor(18): 1, tensor(1): 1, tensor(10): 1, tensor(14): 1, tensor(15): 1, tensor(5): 1, tensor(18): 1, tensor(5): 1, tensor(1): 1, tensor(1): 1, tensor(5): 1, tensor(3): 1, tensor(5): 1, tensor(3): 1, tensor(10): 1, tensor(14): 1, tensor(18): 1, tensor(0): 1, tensor(5): 1, tensor(12): 1, tensor(18): 1, tensor(0): 1, tensor(10): 1, tensor(14): 1, tensor(18): 1, tensor(12): 1, tensor(18): 1, tensor(5): 1, tensor(18): 1, tensor(8): 1, tensor(14): 1, tensor(12): 1, tensor(18): 1, tensor(0): 1, tensor(8): 1, tensor(0): 1, tensor(10): 1, tensor(10): 1, tensor(17): 1, tensor(7): 1, tensor(14): 1, tensor(5): 1, tensor(12): 1, tensor(18): 1, tensor(0): 1, tensor(7): 1, tensor(14): 1, tensor(5): 1, tensor(18): 1, tensor(7): 1, tensor(0): 1, tensor(5): 1, tensor(18): 1, tensor(18): 1, tensor(7): 1, tensor(18): 1, tensor(5): 1, tensor(5): 1, tensor(18): 1, tensor(12): 1, tensor(14): 1, tensor(5): 1, tensor(1): 1, tensor(17): 1, tensor(14): 1, tensor(18): 1, tensor(5): 1, tensor(18): 1, tensor(0): 1, tensor(0): 1, tensor(5): 1, tensor(18): 1, tensor(18): 1, tensor(1): 1, tensor(1): 1, tensor(5): 1, tensor(3): 1, tensor(18): 1, tensor(4): 1, tensor(8): 1, tensor(17): 1, tensor(14): 1, tensor(18): 1, tensor(5): 1, tensor(4): 1, tensor(17): 1, tensor(14): 1, tensor(1): 1, tensor(12): 1, tensor(18): 1, tensor(5): 1, tensor(18): 1, tensor(10): 1, tensor(5): 1, tensor(18): 1, tensor(12): 1, tensor(18): 1, tensor(14): 1, tensor(12): 1, tensor(18): 1, tensor(5): 1, tensor(12): 1, tensor(18): 1, tensor(0): 1, tensor(8): 1, tensor(14): 1, tensor(12): 1, tensor(1): 1, tensor(5): 1, tensor(18): 1, tensor(0): 1, tensor(8): 1, tensor(0): 1, tensor(10): 1, tensor(7): 1, tensor(18): 1, tensor(7): 1, tensor(14): 1, tensor(14): 1, tensor(8): 1, tensor(7): 1, tensor(14): 1, tensor(5): 1, tensor(15): 1, tensor(10): 1, tensor(4): 1, tensor(15): 1, tensor(14): 1, tensor(10): 1, tensor(18): 1, tensor(10): 1, tensor(10): 1, tensor(17): 1, tensor(11): 1, tensor(14): 1, tensor(5): 1, tensor(18): 1, tensor(12): 1, tensor(18): 1, tensor(10): 1, tensor(14): 1, tensor(18): 1, tensor(5): 1, tensor(7): 1, tensor(14): 1, tensor(18): 1, tensor(18): 1, tensor(5): 1, tensor(18): 1, tensor(5): 1, tensor(10): 1, tensor(8): 1, tensor(10): 1, tensor(5): 1, tensor(18): 1, tensor(11): 1, tensor(14): 1, tensor(0): 1, tensor(18): 1, tensor(10): 1, tensor(18): 1, tensor(11): 1, tensor(11): 1, tensor(7): 1, tensor(4): 1, tensor(0): 1, tensor(10): 1, tensor(0): 1, tensor(5): 1, tensor(18): 1, tensor(8): 1, tensor(18): 1, tensor(5): 1, tensor(18): 1, tensor(10): 1, tensor(14): 1, tensor(18): 1, tensor(4): 1, tensor(5): 1, tensor(18): 1, tensor(5): 1, tensor(18): 1, tensor(18): 1, tensor(7): 1, tensor(14): 1, tensor(15): 1, tensor(5): 1, tensor(12): 1, tensor(18): 1, tensor(5): 1, tensor(5): 1, tensor(5): 1, tensor(12): 1, tensor(18): 1, tensor(0): 1, tensor(10): 1, tensor(14): 1, tensor(15): 1, tensor(12): 1, tensor(18): 1, tensor(10): 1, tensor(14): 1, tensor(11): 1, tensor(0): 1, tensor(18): 1, tensor(10): 1, tensor(17): 1, tensor(15): 1, tensor(0): 1, tensor(18): 1, tensor(7): 1, tensor(11): 1, tensor(14): 1, tensor(5): 1, tensor(18): 1, tensor(10): 1, tensor(10): 1, tensor(5): 1, tensor(0): 1, tensor(18): 1, tensor(14): 1, tensor(10): 1, tensor(10): 1, tensor(11): 1, tensor(14): 1, tensor(10): 1, tensor(4): 1, tensor(11): 1, tensor(14): 1, tensor(10): 1, tensor(5): 1, tensor(0): 1, tensor(18): 1, tensor(11): 1, tensor(1): 1, tensor(14): 1, tensor(10): 1, tensor(10): 1, tensor(17): 1, tensor(11): 1, tensor(15): 1, tensor(0): 1, tensor(10): 1, tensor(7): 1, tensor(14): 1, tensor(5): 1, tensor(15): 1, tensor(8): 1, tensor(7): 1, tensor(14): 1, tensor(10): 1, tensor(7): 1, tensor(8): 1, tensor(15): 1, tensor(15): 1, tensor(14): 1, tensor(10): 1, tensor(17): 1, tensor(11): 1, tensor(18): 1, tensor(8): 1, tensor(18): 1, tensor(5): 1, tensor(18): 1, tensor(5): 1, tensor(12): 1, tensor(18): 1, tensor(14): 1, tensor(10): 1, tensor(17): 1, tensor(15): 1, tensor(18): 1, tensor(0): 1, tensor(10): 1, tensor(0): 1, tensor(18): 1, tensor(7): 1, tensor(14): 1, tensor(8): 1, tensor(17): 1, tensor(15): 1, tensor(14): 1, tensor(5): 1, tensor(18): 1, tensor(15): 1, tensor(7): 1, tensor(7): 1, tensor(15): 1, tensor(14): 1, tensor(10): 1, tensor(5): 1, tensor(3): 1, tensor(5): 1, tensor(18): 1, tensor(15): 1, tensor(11): 1, tensor(18): 1, tensor(5): 1, tensor(18): 1, tensor(9): 1, tensor(1): 1, tensor(1): 1, tensor(14): 1, tensor(10): 1, tensor(17): 1, tensor(4): 1, tensor(0): 1, tensor(14): 1, tensor(18): 1, tensor(5): 1, tensor(0): 1, tensor(18): 1, tensor(10): 1, tensor(11): 1, tensor(0): 1, tensor(7): 1, tensor(14): 1, tensor(5): 1, tensor(18): 1, tensor(12): 1, tensor(18): 1, tensor(10): 1, tensor(5): 1, tensor(5): 1, tensor(18): 1, tensor(0): 1, tensor(18): 1, tensor(10): 1, tensor(12): 1, tensor(18): 1, tensor(7): 1, tensor(18): 1, tensor(10): 1, tensor(7): 1, tensor(18): 1, tensor(10): 1, tensor(7): 1, tensor(18): 1, tensor(5): 1, tensor(18): 1, tensor(8): 1, tensor(7): 1, tensor(18): 1, tensor(8): 1, tensor(18): 1, tensor(7): 1, tensor(18): 1, tensor(5): 1, tensor(18): 1, tensor(0): 1, tensor(0): 1, tensor(10): 1, tensor(18): 1, tensor(10): 1, tensor(18): 1, tensor(10): 1, tensor(5): 1, tensor(18): 1, tensor(7): 1, tensor(18): 1, tensor(5): 1, tensor(18): 1, tensor(7): 1, tensor(18): 1, tensor(10): 1, tensor(18): 1, tensor(18): 1, tensor(7): 1, tensor(18): 1, tensor(5): 1, tensor(18): 1, tensor(8): 1, tensor(5): 1, tensor(18): 1, tensor(10): 1, tensor(5): 1, tensor(5): 1, tensor(3): 1, tensor(18): 1, tensor(14): 1, tensor(15): 1, tensor(4): 1, tensor(10): 1, tensor(18): 1, tensor(11): 1, tensor(0): 1, tensor(7): 1, tensor(5): 1, tensor(18): 1, tensor(5): 1, tensor(18): 1, tensor(10): 1, tensor(18): 1, tensor(11): 1, tensor(0): 1, tensor(10): 1, tensor(18): 1, tensor(14): 1, tensor(5): 1, tensor(0): 1, tensor(18): 1, tensor(10): 1, tensor(18): 1, tensor(18): 1, tensor(11): 1, tensor(0): 1, tensor(5): 1, tensor(0): 1, tensor(18): 1, tensor(18): 1, tensor(10): 1, tensor(5): 1, tensor(0): 1, tensor(18): 1, tensor(14): 1, tensor(18): 1, tensor(8): 1, tensor(0): 1, tensor(18): 1, tensor(10): 1, tensor(11): 1, tensor(5): 1, tensor(15): 1, tensor(12): 1, tensor(18): 1, tensor(7): 1, tensor(14): 1, tensor(12): 1, tensor(18): 1, tensor(5): 1, tensor(1): 1, tensor(10): 1, tensor(11): 1, tensor(5): 1, tensor(18): 1, tensor(7): 1, tensor(3): 1, tensor(12): 1, tensor(18): 1, tensor(7): 1, tensor(14): 1, tensor(18): 1, tensor(8): 1, tensor(14): 1, tensor(15): 1, tensor(12): 1, tensor(18): 1, tensor(5): 1, tensor(18): 1, tensor(18): 1, tensor(10): 1, tensor(5): 1, tensor(17): 1, tensor(7): 1, tensor(14): 1, tensor(5): 1, tensor(18): 1, tensor(10): 1}\n"
     ]
    }
   ],
   "source": [
    "print(objects[0][0][\"res_original\"])"
   ]
  },
  {
   "cell_type": "code",
   "execution_count": 3,
   "id": "worldwide-links",
   "metadata": {},
   "outputs": [
    {
     "name": "stdout",
     "output_type": "stream",
     "text": [
      "{'res_original': {tensor(15): 1, tensor(15): 1, tensor(11): 1, tensor(14): 1, tensor(10): 1, tensor(11): 1, tensor(14): 1, tensor(7): 1, tensor(0): 1, tensor(18): 1, tensor(5): 1, tensor(18): 1, tensor(10): 1, tensor(10): 1, tensor(11): 1, tensor(5): 1, tensor(18): 1, tensor(5): 1, tensor(1): 1, tensor(5): 1, tensor(1): 1, tensor(14): 1, tensor(18): 1, tensor(10): 1, tensor(18): 1, tensor(5): 1, tensor(0): 1, tensor(18): 1, tensor(11): 1, tensor(14): 1, tensor(10): 1, tensor(17): 1, tensor(11): 1, tensor(15): 1, tensor(18): 1, tensor(14): 1, tensor(4): 1, tensor(4): 1, tensor(10): 1, tensor(3): 1, tensor(5): 1, tensor(18): 1, tensor(18): 1, tensor(3): 1, tensor(5): 1, tensor(18): 1, tensor(12): 1, tensor(10): 1, tensor(7): 1, tensor(14): 1, tensor(12): 1, tensor(18): 1, tensor(7): 1, tensor(7): 1, tensor(14): 1, tensor(5): 1, tensor(18): 1, tensor(12): 1, tensor(5): 1, tensor(18): 1, tensor(10): 1, tensor(3): 1, tensor(5): 1, tensor(18): 1, tensor(18): 1, tensor(5): 1, tensor(18): 1, tensor(7): 1, tensor(14): 1, tensor(5): 1, tensor(18): 1, tensor(3): 1, tensor(10): 1, tensor(3): 1, tensor(8): 1, tensor(3): 1, tensor(5): 1, tensor(18): 1, tensor(3): 1, tensor(5): 1, tensor(18): 1, tensor(12): 1, tensor(7): 1, tensor(0): 1, tensor(10): 1, tensor(3): 1, tensor(5): 1, tensor(18): 1, tensor(7): 1, tensor(14): 1, tensor(12): 1, tensor(18): 1, tensor(18): 1, tensor(5): 1, tensor(15): 1, tensor(15): 1, tensor(5): 1, tensor(18): 1, tensor(8): 1, tensor(11): 1, tensor(15): 1, tensor(12): 1, tensor(18): 1, tensor(7): 1, tensor(0): 1, tensor(8): 1, tensor(5): 1, tensor(18): 1, tensor(12): 1, tensor(18): 1, tensor(18): 1, tensor(8): 1, tensor(11): 1, tensor(0): 1, tensor(8): 1, tensor(3): 1, tensor(18): 1, tensor(18): 1, tensor(0): 1, tensor(8): 1, tensor(18): 1, tensor(18): 1, tensor(0): 1, tensor(12): 1, tensor(18): 1, tensor(10): 1, tensor(17): 1, tensor(5): 1, tensor(10): 1, tensor(8): 1, tensor(12): 1, tensor(18): 1, tensor(7): 1, tensor(14): 1, tensor(15): 1, tensor(10): 1, tensor(8): 1, tensor(3): 1, tensor(18): 1, tensor(5): 1, tensor(18): 1, tensor(7): 1, tensor(14): 1, tensor(12): 1, tensor(18): 1, tensor(11): 1, tensor(15): 1, tensor(18): 1, tensor(12): 1, tensor(18): 1, tensor(15): 1, tensor(10): 1, tensor(8): 1, tensor(3): 1, tensor(5): 1, tensor(12): 1, tensor(18): 1, tensor(12): 1, tensor(10): 1, tensor(8): 1, tensor(18): 1, tensor(5): 1, tensor(18): 1, tensor(7): 1, tensor(14): 1, tensor(12): 1, tensor(18): 1, tensor(11): 1, tensor(15): 1, tensor(18): 1, tensor(12): 1, tensor(18): 1, tensor(15): 1, tensor(10): 1, tensor(3): 1, tensor(5): 1, tensor(18): 1, tensor(18): 1, tensor(5): 1, tensor(18): 1, tensor(7): 1, tensor(14): 1, tensor(5): 1, tensor(18): 1, tensor(3): 1, tensor(5): 1, tensor(18): 1, tensor(3): 1, tensor(5): 1, tensor(18): 1, tensor(12): 1, tensor(10): 1, tensor(8): 1, tensor(18): 1, tensor(5): 1, tensor(18): 1, tensor(7): 1, tensor(14): 1, tensor(12): 1, tensor(18): 1, tensor(11): 1, tensor(15): 1, tensor(18): 1, tensor(12): 1, tensor(18): 1, tensor(15): 1, tensor(10): 1, tensor(3): 1, tensor(5): 1, tensor(18): 1, tensor(18): 1, tensor(5): 1, tensor(18): 1, tensor(7): 1, tensor(14): 1, tensor(5): 1, tensor(18): 1, tensor(3): 1, tensor(5): 1, tensor(18): 1, tensor(3): 1, tensor(5): 1, tensor(18): 1, tensor(12): 1, tensor(10): 1, tensor(8): 1, tensor(3): 1, tensor(5): 1, tensor(18): 1, tensor(18): 1, tensor(5): 1, tensor(18): 1, tensor(7): 1, tensor(14): 1, tensor(5): 1, tensor(18): 1, tensor(3): 1, tensor(5): 1, tensor(18): 1, tensor(3): 1, tensor(5): 1, tensor(18): 1, tensor(12): 1, tensor(10): 1, tensor(17): 1, tensor(3): 1, tensor(5): 1, tensor(18): 1, tensor(18): 1, tensor(7): 1, tensor(14): 1, tensor(7): 1, tensor(0): 1, tensor(8): 1, tensor(3): 1, tensor(18): 1, tensor(5): 1, tensor(10): 1, tensor(8): 1, tensor(3): 1, tensor(18): 1, tensor(10): 1, tensor(3): 1, tensor(5): 1, tensor(18): 1, tensor(18): 1, tensor(7): 1, tensor(14): 1, tensor(3): 1, tensor(18): 1, tensor(5): 1, tensor(10): 1, tensor(8): 1, tensor(3): 1, tensor(8): 1, tensor(3): 1, tensor(18): 1, tensor(10): 1, tensor(8): 1, tensor(3): 1, tensor(5): 1, tensor(18): 1, tensor(18): 1, tensor(7): 1, tensor(14): 1, tensor(3): 1, tensor(18): 1, tensor(8): 1, tensor(7): 1, tensor(0): 1, tensor(5): 1, tensor(10): 1, tensor(8): 1, tensor(3): 1, tensor(8): 1, tensor(3): 1, tensor(18): 1, tensor(10): 1, tensor(10): 1, tensor(15): 1, tensor(18): 1, tensor(18): 1, tensor(14): 1, tensor(5): 1, tensor(18): 1, tensor(4): 1, tensor(4): 1, tensor(10): 1, tensor(14): 1, tensor(15): 1, tensor(5): 1, tensor(12): 1, tensor(18): 1, tensor(18): 1, tensor(8): 1, tensor(12): 1, tensor(18): 1, tensor(7): 1, tensor(0): 1, tensor(10): 1, tensor(12): 1, tensor(18): 1, tensor(0): 1, tensor(0): 1, tensor(11): 1, tensor(0): 1, tensor(5): 1, tensor(18): 1, tensor(0): 1, tensor(12): 1, tensor(7): 1, tensor(14): 1, tensor(18): 1, tensor(8): 1, tensor(18): 1, tensor(17): 1, tensor(0): 1, tensor(5): 1, tensor(18): 1, tensor(8): 1, tensor(18): 1, tensor(0): 1, tensor(12): 1, tensor(18): 1, tensor(10): 1, tensor(8): 1, tensor(5): 1, tensor(7): 1, tensor(14): 1, tensor(15): 1, tensor(18): 1, tensor(5): 1, tensor(18): 1, tensor(7): 1, tensor(18): 1, tensor(7): 1, tensor(0): 1, tensor(0): 1, tensor(10): 1, tensor(14): 1, tensor(18): 1, tensor(4): 1, tensor(5): 1, tensor(5): 1, tensor(18): 1, tensor(5): 1, tensor(18): 1, tensor(5): 1, tensor(18): 1, tensor(12): 1, tensor(18): 1, tensor(7): 1, tensor(0): 1, tensor(8): 1, tensor(14): 1, tensor(18): 1, tensor(5): 1, tensor(15): 1, tensor(5): 1, tensor(18): 1, tensor(10): 1, tensor(18): 1, tensor(3): 1, tensor(18): 1, tensor(7): 1, tensor(3): 1, tensor(3): 1, tensor(17): 1, tensor(7): 1, tensor(14): 1, tensor(12): 1, tensor(18): 1, tensor(12): 1, tensor(0): 1, tensor(10): 1, tensor(15): 1, tensor(7): 1, tensor(14): 1, tensor(0): 1, tensor(5): 1, tensor(12): 1, tensor(18): 1, tensor(1): 1, tensor(5): 1, tensor(18): 1, tensor(5): 1, tensor(0): 1, tensor(10): 1, tensor(18): 1, tensor(10): 1, tensor(12): 1, tensor(18): 1, tensor(5): 1, tensor(18): 1, tensor(18): 1, tensor(5): 1, tensor(7): 1, tensor(14): 1, tensor(4): 1, tensor(5): 1, tensor(18): 1, tensor(0): 1, tensor(10): 1, tensor(5): 1, tensor(18): 1, tensor(10): 1, tensor(14): 1, tensor(18): 1, tensor(0): 1, tensor(5): 1, tensor(18): 1, tensor(18): 1, tensor(12): 1, tensor(18): 1, tensor(18): 1, tensor(10): 1, tensor(12): 1, tensor(18): 1, tensor(8): 1, tensor(12): 1, tensor(18): 1, tensor(5): 1, tensor(8): 1, tensor(14): 1, tensor(15): 1, tensor(0): 1, tensor(5): 1, tensor(18): 1, tensor(18): 1, tensor(5): 1, tensor(4): 1, tensor(18): 1, tensor(18): 1, tensor(5): 1, tensor(18): 1, tensor(5): 1, tensor(18): 1, tensor(18): 1, tensor(10): 1, tensor(5): 1, tensor(18): 1, tensor(10): 1, tensor(14): 1, tensor(12): 1, tensor(18): 1, tensor(5): 1, tensor(18): 1, tensor(14): 1, tensor(5): 1, tensor(18): 1, tensor(5): 1, tensor(18): 1, tensor(17): 1, tensor(7): 1, tensor(14): 1, tensor(15): 1, tensor(5): 1, tensor(18): 1, tensor(0): 1, tensor(18): 1, tensor(18): 1, tensor(18): 1, tensor(7): 1, tensor(14): 1, tensor(18): 1, tensor(5): 1, tensor(5): 1, tensor(12): 1, tensor(18): 1, tensor(10): 1, tensor(11): 1, tensor(15): 1, tensor(18): 1, tensor(18): 1, tensor(18): 1, tensor(0): 1, tensor(8): 1, tensor(4): 1, tensor(5): 1, tensor(3): 1, tensor(18): 1, tensor(5): 1, tensor(5): 1, tensor(12): 1, tensor(18): 1, tensor(10): 1, tensor(17): 1, tensor(14): 1, tensor(15): 1, tensor(5): 1, tensor(18): 1, tensor(7): 1, tensor(0): 1, tensor(5): 1, tensor(18): 1, tensor(10): 1, tensor(5): 1, tensor(18): 1, tensor(5): 1, tensor(18): 1, tensor(7): 1, tensor(14): 1, tensor(12): 1, tensor(18): 1, tensor(10): 1, tensor(14): 1, tensor(12): 1, tensor(18): 1, tensor(12): 1, tensor(18): 1, tensor(5): 1, tensor(18): 1, tensor(8): 1, tensor(14): 1, tensor(15): 1, tensor(5): 1, tensor(12): 1, tensor(18): 1, tensor(5): 1, tensor(18): 1, tensor(18): 1, tensor(0): 1, tensor(10): 1, tensor(4): 1, tensor(5): 1, tensor(18): 1, tensor(0): 1, tensor(5): 1, tensor(18): 1, tensor(10): 1, tensor(7): 1, tensor(14): 1, tensor(12): 1, tensor(18): 1, tensor(5): 1, tensor(0): 1, tensor(7): 1, tensor(14): 1, tensor(5): 1, tensor(18): 1, tensor(12): 1, tensor(10): 1, tensor(11): 1, tensor(18): 1, tensor(18): 1, tensor(7): 1, tensor(18): 1, tensor(5): 1, tensor(18): 1, tensor(18): 1, tensor(10): 1, tensor(18): 1, tensor(8): 1, tensor(18): 1, tensor(12): 1, tensor(18): 1, tensor(5): 1, tensor(7): 1, tensor(14): 1, tensor(18): 1, tensor(5): 1, tensor(18): 1, tensor(10): 1, tensor(11): 1, tensor(15): 1, tensor(15): 1, tensor(10): 1, tensor(12): 1, tensor(18): 1, tensor(18): 1, tensor(7): 1, tensor(14): 1, tensor(5): 1, tensor(5): 1, tensor(12): 1, tensor(18): 1, tensor(10): 1, tensor(11): 1, tensor(15): 1, tensor(12): 1, tensor(18): 1, tensor(3): 1, tensor(12): 1, tensor(18): 1, tensor(18): 1, tensor(18): 1, tensor(5): 1, tensor(18): 1, tensor(7): 1, tensor(14): 1, tensor(18): 1, tensor(8): 1, tensor(7): 1, tensor(14): 1, tensor(18): 1, tensor(5): 1, tensor(10): 1, tensor(11): 1, tensor(18): 1, tensor(18): 1, tensor(7): 1, tensor(18): 1, tensor(5): 1, tensor(12): 1, tensor(12): 1, tensor(18): 1, tensor(8): 1, tensor(18): 1, tensor(10): 1, tensor(14): 1, tensor(12): 1, tensor(18): 1, tensor(18): 1, tensor(10): 1, tensor(18): 1, tensor(8): 1, tensor(18): 1, tensor(5): 1, tensor(18): 1, tensor(4): 1, tensor(5): 1, tensor(3): 1, tensor(18): 1, tensor(18): 1, tensor(10): 1, tensor(11): 1, tensor(18): 1, tensor(18): 1, tensor(0): 1, tensor(7): 1, tensor(18): 1, tensor(5): 1, tensor(18): 1, tensor(12): 1, tensor(5): 1, tensor(18): 1, tensor(8): 1, tensor(18): 1, tensor(18): 1, tensor(0): 1, tensor(11): 1, tensor(15): 1, tensor(18): 1, tensor(0): 1, tensor(12): 1, tensor(18): 1, tensor(17): 1, tensor(0): 1, tensor(10): 1, tensor(0): 1, tensor(8): 1, tensor(0): 1, tensor(10): 1, tensor(14): 1, tensor(18): 1, tensor(0): 1, tensor(17): 1, tensor(7): 1, tensor(14): 1, tensor(12): 1, tensor(3): 1, tensor(18): 1, tensor(5): 1, tensor(18): 1, tensor(5): 1, tensor(18): 1, tensor(10): 1, tensor(17): 1, tensor(7): 1, tensor(14): 1, tensor(3): 1, tensor(18): 1, tensor(0): 1, tensor(5): 1, tensor(18): 1, tensor(14): 1, tensor(18): 1, tensor(5): 1, tensor(12): 1, tensor(18): 1, tensor(0): 1, tensor(10): 1, tensor(18): 1, tensor(18): 1, tensor(10): 1, tensor(18): 1, tensor(8): 1, tensor(18): 1, tensor(10): 1, tensor(11): 1, tensor(15): 1, tensor(18): 1, tensor(0): 1, tensor(18): 1, tensor(8): 1, tensor(0): 1, tensor(10): 1, tensor(0): 1, tensor(8): 1, tensor(0): 1, tensor(10): 1, tensor(7): 1, tensor(12): 1, tensor(18): 1, tensor(5): 1, tensor(18): 1, tensor(14): 1, tensor(12): 1, tensor(18): 1, tensor(10): 1, tensor(18): 1, tensor(8): 1, tensor(18): 1, tensor(10): 1, tensor(7): 1, tensor(14): 1, tensor(18): 1, tensor(5): 1, tensor(18): 1, tensor(5): 1, tensor(18): 1, tensor(0): 1, tensor(5): 1, tensor(18): 1, tensor(12): 1, tensor(18): 1, tensor(10): 1, tensor(18): 1, tensor(11): 1, tensor(0): 1, tensor(7): 1, tensor(14): 1, tensor(18): 1, tensor(18): 1, tensor(5): 1, tensor(4): 1, tensor(10): 1, tensor(18): 1, tensor(1): 1, tensor(10): 1, tensor(4): 1, tensor(7): 1, tensor(14): 1, tensor(5): 1, tensor(18): 1, tensor(0): 1, tensor(5): 1, tensor(18): 1, tensor(0): 1, tensor(7): 1, tensor(18): 1, tensor(10): 1, tensor(14): 1, tensor(12): 1, tensor(18): 1, tensor(15): 1, tensor(5): 1, tensor(4): 1, tensor(10): 1, tensor(5): 1, tensor(18): 1, tensor(10): 1, tensor(10): 1, tensor(17): 1, tensor(14): 1, tensor(12): 1, tensor(18): 1, tensor(12): 1, tensor(18): 1, tensor(5): 1, tensor(10): 1, tensor(12): 1, tensor(18): 1, tensor(7): 1, tensor(14): 1, tensor(15): 1, tensor(4): 1, tensor(0): 1, tensor(5): 1, tensor(12): 1, tensor(18): 1, tensor(7): 1, tensor(14): 1, tensor(5): 1, tensor(10): 1, tensor(14): 1, tensor(5): 1, tensor(18): 1, tensor(10): 1, tensor(17): 1, tensor(14): 1, tensor(18): 1, tensor(5): 1, tensor(18): 1, tensor(5): 1, tensor(12): 1, tensor(18): 1, tensor(10): 1, tensor(4): 1, tensor(8): 1, tensor(11): 1, tensor(0): 1, tensor(5): 1, tensor(18): 1, tensor(10): 1, tensor(12): 1, tensor(0): 1, tensor(11): 1, tensor(7): 1, tensor(18): 1, tensor(18): 1, tensor(10): 1, tensor(0): 1, tensor(11): 1, tensor(5): 1, tensor(18): 1, tensor(8): 1, tensor(15): 1, tensor(5): 1, tensor(18): 1, tensor(4): 1, tensor(14): 1, tensor(5): 1, tensor(0): 1, tensor(18): 1, tensor(10): 1, tensor(5): 1, tensor(0): 1, tensor(18): 1, tensor(11): 1, tensor(14): 1, tensor(18): 1, tensor(5): 1, tensor(0): 1, tensor(18): 1, tensor(8): 1, tensor(15): 1, tensor(14): 1, tensor(14): 1, tensor(10): 1, tensor(17): 1, tensor(11): 1, tensor(5): 1, tensor(15): 1, tensor(0): 1, tensor(8): 1, tensor(17): 1, tensor(14): 1, tensor(8): 1, tensor(14): 1, tensor(12): 1, tensor(18): 1, tensor(10): 1, tensor(12): 1, tensor(18): 1, tensor(5): 1, tensor(0): 1, tensor(8): 1, tensor(0): 1, tensor(18): 1, tensor(10): 1, tensor(4): 1, tensor(15): 1, tensor(12): 1, tensor(12): 1, tensor(18): 1, tensor(14): 1, tensor(10): 1, tensor(11): 1, tensor(14): 1, tensor(0): 1, tensor(0): 1, tensor(18): 1, tensor(10): 1, tensor(8): 1, tensor(7): 1, tensor(14): 1, tensor(15): 1, tensor(5): 1, tensor(12): 1, tensor(18): 1, tensor(12): 1, tensor(17): 1, tensor(7): 1, tensor(14): 1, tensor(15): 1, tensor(5): 1, tensor(12): 1, tensor(18): 1, tensor(18): 1, tensor(7): 1, tensor(14): 1, tensor(5): 1, tensor(18): 1, tensor(12): 1, tensor(18): 1, tensor(7): 1, tensor(14): 1, tensor(1): 1, tensor(5): 1, tensor(18): 1, tensor(5): 1, tensor(10): 1, tensor(11): 1, tensor(18): 1, tensor(5): 1, tensor(17): 1, tensor(18): 1, tensor(5): 1, tensor(18): 1, tensor(12): 1, tensor(3): 1, tensor(18): 1, tensor(7): 1, tensor(14): 1, tensor(5): 1, tensor(3): 1, tensor(8): 1, tensor(3): 1, tensor(8): 1, tensor(7): 1, tensor(14): 1, tensor(5): 1, tensor(5): 1, tensor(12): 1, tensor(3): 1, tensor(18): 1, tensor(18): 1, tensor(10): 1, tensor(5): 1, tensor(18): 1, tensor(7): 1, tensor(18): 1, tensor(5): 1, tensor(18): 1, tensor(5): 1, tensor(12): 1, tensor(18): 1, tensor(0): 1, tensor(10): 1, tensor(4): 1, tensor(11): 1, tensor(14): 1, tensor(3): 1, tensor(10): 1, tensor(3): 1, tensor(18): 1, tensor(10): 1, tensor(18): 1, tensor(15): 1, tensor(11): 1, tensor(4): 1, tensor(14): 1, tensor(10): 1, tensor(17): 1, tensor(11): 1, tensor(14): 1, tensor(18): 1, tensor(10): 1, tensor(5): 1, tensor(12): 1, tensor(0): 1, tensor(18): 1, tensor(11): 1, tensor(11): 1, tensor(4): 1, tensor(0): 1, tensor(10): 1, tensor(14): 1, tensor(5): 1, tensor(18): 1, tensor(12): 1, tensor(11): 1, tensor(0): 1, tensor(5): 1, tensor(1): 1, tensor(7): 1, tensor(18): 1, tensor(0): 1, tensor(5): 1, tensor(12): 1, tensor(18): 1, tensor(5): 1, tensor(18): 1, tensor(7): 1, tensor(14): 1, tensor(15): 1, tensor(18): 1, tensor(12): 1, tensor(18): 1, tensor(5): 1, tensor(1): 1, tensor(7): 1, tensor(18): 1, tensor(5): 1, tensor(18): 1, tensor(18): 1, tensor(12): 1, tensor(18): 1, tensor(12): 1, tensor(5): 1, tensor(18): 1, tensor(7): 1, tensor(18): 1, tensor(5): 1, tensor(12): 1, tensor(18): 1, tensor(10): 1, tensor(18): 1, tensor(8): 1, tensor(18): 1, tensor(11): 1, tensor(0): 1, tensor(7): 1, tensor(14): 1, tensor(10): 1, tensor(14): 1, tensor(18): 1, tensor(10): 1, tensor(18): 1, tensor(15): 1, tensor(14): 1, tensor(18): 1, tensor(8): 1, tensor(18): 1, tensor(14): 1, tensor(14): 1, tensor(18): 1, tensor(10): 1, tensor(15): 1, tensor(8): 1, tensor(15): 1, tensor(7): 1, tensor(11): 1, tensor(14): 1, tensor(15): 1, tensor(10): 1, tensor(14): 1, tensor(15): 1, tensor(15): 1, tensor(10): 1, tensor(17): 1, tensor(11): 1, tensor(14): 1, tensor(15): 1, tensor(10): 1, tensor(4): 1, tensor(11): 1, tensor(18): 1, tensor(4): 1, tensor(14): 1, tensor(8): 1, tensor(15): 1, tensor(14): 1, tensor(5): 1, tensor(18): 1, tensor(18): 1, tensor(5): 1, tensor(15): 1, tensor(10): 1, tensor(17): 1, tensor(12): 1, tensor(11): 1, tensor(4): 1, tensor(14): 1, tensor(10): 1, tensor(4): 1, tensor(15): 1, tensor(11): 1, tensor(14): 1, tensor(5): 1, tensor(18): 1, tensor(10): 1, tensor(17): 1, tensor(11): 1, tensor(12): 1, tensor(14): 1, tensor(0): 1, tensor(10): 1, tensor(17): 1, tensor(11): 1, tensor(18): 1, tensor(14): 1, tensor(5): 1, tensor(18): 1, tensor(18): 1, tensor(10): 1, tensor(11): 1, tensor(15): 1, tensor(14): 1, tensor(10): 1, tensor(17): 1, tensor(11): 1, tensor(12): 1, tensor(4): 1, tensor(0): 1, tensor(10): 1, tensor(17): 1, tensor(12): 1, tensor(14): 1, tensor(4): 1, tensor(10): 1, tensor(17): 1, tensor(14): 1, tensor(5): 1, tensor(18): 1, tensor(10): 1, tensor(12): 1, tensor(0): 1, tensor(18): 1, tensor(1): 1, tensor(1): 1, tensor(11): 1, tensor(11): 1, tensor(0): 1, tensor(5): 1, tensor(18): 1, tensor(0): 1, tensor(18): 1, tensor(5): 1, tensor(0): 1, tensor(18): 1, tensor(10): 1, tensor(14): 1, tensor(8): 1, tensor(11): 1, tensor(5): 1, tensor(3): 1, tensor(0): 1, tensor(8): 1, tensor(4): 1, tensor(0): 1, tensor(0): 1, tensor(18): 1, tensor(10): 1, tensor(18): 1, tensor(11): 1, tensor(5): 1, tensor(0): 1, tensor(18): 1, tensor(1): 1, tensor(8): 1, tensor(12): 1, tensor(18): 1, tensor(14): 1, tensor(7): 1, tensor(5): 1, tensor(18): 1, tensor(10): 1, tensor(17): 1, tensor(15): 1, tensor(11): 1, tensor(5): 1, tensor(3): 1, tensor(0): 1, tensor(18): 1, tensor(5): 1, tensor(0): 1, tensor(18): 1, tensor(5): 1, tensor(1): 1, tensor(14): 1, tensor(18): 1, tensor(0): 1, tensor(18): 1, tensor(0): 1, tensor(18): 1, tensor(1): 1, tensor(5): 1, tensor(1): 1, tensor(10): 1, tensor(0): 1, tensor(5): 1, tensor(18): 1, tensor(11): 1, tensor(18): 1, tensor(8): 1, tensor(18): 1, tensor(10): 1, tensor(0): 1, tensor(18): 1, tensor(1): 1, tensor(1): 1, tensor(3): 1, tensor(10): 1, tensor(5): 1, tensor(15): 1, tensor(14): 1, tensor(1): 1, tensor(1): 1, tensor(1): 1, tensor(10): 1, tensor(18): 1, tensor(7): 1, tensor(14): 1, tensor(5): 1, tensor(18): 1, tensor(5): 1, tensor(1): 1, tensor(1): 1, tensor(5): 1, tensor(18): 1, tensor(12): 1, tensor(18): 1, tensor(10): 1, tensor(14): 1, tensor(12): 1, tensor(18): 1, tensor(7): 1, tensor(14): 1, tensor(4): 1, tensor(15): 1, tensor(5): 1, tensor(7): 1, tensor(0): 1, tensor(10): 1, tensor(7): 1, tensor(14): 1, tensor(15): 1, tensor(10): 1, tensor(4): 1, tensor(11): 1, tensor(14): 1, tensor(12): 1, tensor(17): 1, tensor(12): 1, tensor(18): 1, tensor(5): 1, tensor(18): 1, tensor(18): 1, tensor(18): 1, tensor(10): 1, tensor(17): 1, tensor(15): 1, tensor(11): 1, tensor(14): 1, tensor(12): 1, tensor(0): 1, tensor(18): 1, tensor(10): 1, tensor(15): 1, tensor(15): 1, tensor(8): 1, tensor(7): 1, tensor(4): 1, tensor(11): 1, tensor(14): 1, tensor(10): 1, tensor(7): 1, tensor(8): 1, tensor(5): 1, tensor(0): 1, tensor(18): 1, tensor(8): 1, tensor(18): 1, tensor(8): 1, tensor(18): 1, tensor(14): 1, tensor(18): 1, tensor(8): 1, tensor(18): 1, tensor(0): 1, tensor(18): 1, tensor(11): 1, tensor(14): 1, tensor(4): 1, tensor(10): 1, tensor(17): 1, tensor(15): 1, tensor(11): 1, tensor(4): 1, tensor(5): 1, tensor(18): 1, tensor(14): 1, tensor(5): 1, tensor(0): 1, tensor(18): 1, tensor(5): 1, tensor(18): 1, tensor(10): 1, tensor(18): 1, tensor(8): 1, tensor(18): 1, tensor(10): 1, tensor(5): 1, tensor(0): 1, tensor(18): 1, tensor(11): 1, tensor(14): 1, tensor(10): 1, tensor(15): 1, tensor(11): 1, tensor(14): 1, tensor(10): 1, tensor(8): 1, tensor(12): 1, tensor(15): 1, tensor(11): 1, tensor(12): 1, tensor(14): 1, tensor(5): 1, tensor(18): 1, tensor(12): 1, tensor(0): 1, tensor(18): 1, tensor(10): 1, tensor(15): 1, tensor(14): 1, tensor(7): 1, tensor(4): 1, tensor(4): 1, tensor(10): 1, tensor(14): 1, tensor(18): 1, tensor(18): 1, tensor(10): 1, tensor(11): 1, tensor(15): 1, tensor(1): 1, tensor(7): 1, tensor(7): 1, tensor(14): 1, tensor(5): 1, tensor(12): 1, tensor(3): 1, tensor(18): 1, tensor(10): 1, tensor(18): 1, tensor(0): 1, tensor(10): 1, tensor(7): 1, tensor(14): 1, tensor(15): 1, tensor(10): 1, tensor(14): 1, tensor(12): 1, tensor(18): 1, tensor(0): 1, tensor(17): 1, tensor(7): 1, tensor(14): 1, tensor(15): 1, tensor(8): 1, tensor(7): 1, tensor(14): 1, tensor(15): 1, tensor(5): 1, tensor(18): 1, tensor(4): 1, tensor(5): 1, tensor(18): 1, tensor(10): 1, tensor(14): 1, tensor(15): 1, tensor(0): 1, tensor(5): 1, tensor(12): 1, tensor(18): 1, tensor(5): 1, tensor(18): 1, tensor(18): 1, tensor(5): 1, tensor(18): 1, tensor(5): 1, tensor(18): 1, tensor(18): 1, tensor(14): 1, tensor(0): 1, tensor(4): 1, tensor(5): 1, tensor(18): 1, tensor(7): 1, tensor(14): 1, tensor(0): 1, tensor(5): 1, tensor(12): 1, tensor(18): 1, tensor(8): 1, tensor(5): 1, tensor(12): 1, tensor(18): 1, tensor(18): 1, tensor(4): 1, tensor(12): 1, tensor(18): 1, tensor(18): 1, tensor(10): 1, tensor(18): 1, tensor(7): 1, tensor(14): 1, tensor(5): 1, tensor(18): 1, tensor(5): 1, tensor(18): 1, tensor(5): 1, tensor(5): 1, tensor(12): 1, tensor(18): 1, tensor(18): 1, tensor(10): 1, tensor(5): 1, tensor(5): 1, tensor(1): 1, tensor(8): 1, tensor(5): 1, tensor(5): 1, tensor(1): 1, tensor(12): 1, tensor(1): 1, tensor(10): 1, tensor(10): 1, tensor(7): 1, tensor(14): 1, tensor(12): 1, tensor(18): 1, tensor(7): 1, tensor(1): 1, tensor(10): 1, tensor(14): 1, tensor(12): 1, tensor(18): 1, tensor(0): 1, tensor(4): 1, tensor(4): 1, tensor(5): 1, tensor(18): 1, tensor(14): 1, tensor(0): 1, tensor(5): 1, tensor(18): 1, tensor(10): 1, tensor(18): 1, tensor(18): 1, tensor(15): 1, tensor(15): 1, tensor(10): 1, tensor(18): 1, tensor(0): 1, tensor(18): 1, tensor(10): 1, tensor(14): 1, tensor(5): 1, tensor(10): 1, tensor(5): 1, tensor(18): 1, tensor(12): 1, tensor(10): 1, tensor(14): 1, tensor(5): 1, tensor(18): 1, tensor(12): 1, tensor(18): 1, tensor(5): 1, tensor(18): 1, tensor(0): 1, tensor(5): 1, tensor(18): 1, tensor(10): 1, tensor(10): 1, tensor(11): 1, tensor(0): 1, tensor(7): 1, tensor(14): 1, tensor(18): 1, tensor(5): 1, tensor(18): 1, tensor(5): 1, tensor(10): 1, tensor(7): 1, tensor(1): 1, tensor(7): 1, tensor(18): 1, tensor(5): 1, tensor(18): 1, tensor(5): 1, tensor(12): 1, tensor(18): 1, tensor(10): 1, tensor(5): 1, tensor(18): 1, tensor(7): 1, tensor(14): 1, tensor(12): 1, tensor(18): 1, tensor(12): 1, tensor(18): 1, tensor(5): 1, tensor(5): 1, tensor(12): 1, tensor(18): 1, tensor(10): 1, tensor(18): 1, tensor(0): 1, tensor(15): 1, tensor(15): 1, tensor(0): 1, tensor(5): 1, tensor(18): 1, tensor(5): 1, tensor(18): 1, tensor(7): 1, tensor(0): 1, tensor(10): 1, tensor(5): 1, tensor(0): 1, tensor(18): 1, tensor(11): 1, tensor(14): 1, tensor(7): 1, tensor(0): 1, tensor(18): 1, tensor(5): 1, tensor(18): 1, tensor(1): 1, tensor(1): 1, tensor(8): 1, tensor(0): 1, tensor(18): 1, tensor(5): 1, tensor(18): 1, tensor(18): 1, tensor(1): 1, tensor(5): 1, tensor(1): 1, tensor(10): 1, tensor(0): 1, tensor(18): 1, tensor(5): 1, tensor(1): 1, tensor(8): 1, tensor(0): 1, tensor(8): 1, tensor(0): 1, tensor(18): 1, tensor(5): 1, tensor(1): 1, tensor(5): 1, tensor(1): 1, tensor(10): 1, tensor(5): 1, tensor(18): 1, tensor(18): 1, tensor(1): 1, tensor(1): 1, tensor(8): 1, tensor(12): 1, tensor(18): 1, tensor(11): 1, tensor(0): 1, tensor(18): 1, tensor(5): 1, tensor(3): 1, tensor(10): 1, tensor(0): 1, tensor(18): 1, tensor(18): 1, tensor(18): 1, tensor(10): 1, tensor(18): 1, tensor(0): 1, tensor(18): 1, tensor(5): 1, tensor(18): 1, tensor(18): 1, tensor(1): 1, tensor(10): 1, tensor(18): 1, tensor(10): 1, tensor(17): 1, tensor(11): 1, tensor(14): 1, tensor(5): 1, tensor(18): 1, tensor(8): 1, tensor(5): 1, tensor(18): 1, tensor(10): 1, tensor(18): 1, tensor(18): 1, tensor(5): 1, tensor(0): 1, tensor(18): 1, tensor(8): 1, tensor(11): 1, tensor(0): 1, tensor(5): 1, tensor(18): 1, tensor(10): 1, tensor(12): 1, tensor(11): 1, tensor(0): 1, tensor(18): 1, tensor(5): 1, tensor(18): 1, tensor(10): 1, tensor(17): 1, tensor(15): 1, tensor(14): 1, tensor(0): 1, tensor(8): 1, tensor(4): 1, tensor(0): 1, tensor(18): 1, tensor(10): 1, tensor(12): 1, tensor(0): 1, tensor(18): 1, tensor(14): 1, tensor(7): 1, tensor(12): 1, tensor(18): 1, tensor(10): 1, tensor(5): 1, tensor(0): 1, tensor(18): 1, tensor(0): 1, tensor(18): 1, tensor(14): 1, tensor(0): 1, tensor(18): 1, tensor(9): 1, tensor(1): 1, tensor(4): 1, tensor(4): 1, tensor(10): 1, tensor(4): 1, tensor(14): 1, tensor(10): 1, tensor(17): 1, tensor(11): 1, tensor(12): 1, tensor(0): 1, tensor(18): 1, tensor(18): 1, tensor(1): 1, tensor(10): 1, tensor(14): 1, tensor(15): 1, tensor(5): 1, tensor(18): 1, tensor(5): 1, tensor(1): 1, tensor(1): 1, tensor(5): 1, tensor(3): 1, tensor(5): 1, tensor(3): 1, tensor(10): 1, tensor(14): 1, tensor(18): 1, tensor(0): 1, tensor(5): 1, tensor(12): 1, tensor(18): 1, tensor(0): 1, tensor(10): 1, tensor(14): 1, tensor(18): 1, tensor(12): 1, tensor(18): 1, tensor(5): 1, tensor(18): 1, tensor(8): 1, tensor(14): 1, tensor(12): 1, tensor(18): 1, tensor(0): 1, tensor(8): 1, tensor(0): 1, tensor(10): 1, tensor(10): 1, tensor(17): 1, tensor(7): 1, tensor(14): 1, tensor(5): 1, tensor(12): 1, tensor(18): 1, tensor(0): 1, tensor(7): 1, tensor(14): 1, tensor(5): 1, tensor(18): 1, tensor(7): 1, tensor(0): 1, tensor(5): 1, tensor(18): 1, tensor(18): 1, tensor(7): 1, tensor(18): 1, tensor(5): 1, tensor(5): 1, tensor(18): 1, tensor(12): 1, tensor(14): 1, tensor(5): 1, tensor(1): 1, tensor(17): 1, tensor(14): 1, tensor(18): 1, tensor(5): 1, tensor(18): 1, tensor(0): 1, tensor(0): 1, tensor(5): 1, tensor(18): 1, tensor(18): 1, tensor(1): 1, tensor(1): 1, tensor(5): 1, tensor(3): 1, tensor(18): 1, tensor(4): 1, tensor(8): 1, tensor(17): 1, tensor(14): 1, tensor(18): 1, tensor(5): 1, tensor(4): 1, tensor(17): 1, tensor(14): 1, tensor(1): 1, tensor(12): 1, tensor(18): 1, tensor(5): 1, tensor(18): 1, tensor(10): 1, tensor(5): 1, tensor(18): 1, tensor(12): 1, tensor(18): 1, tensor(14): 1, tensor(12): 1, tensor(18): 1, tensor(5): 1, tensor(12): 1, tensor(18): 1, tensor(0): 1, tensor(8): 1, tensor(14): 1, tensor(12): 1, tensor(1): 1, tensor(5): 1, tensor(18): 1, tensor(0): 1, tensor(8): 1, tensor(0): 1, tensor(10): 1, tensor(7): 1, tensor(18): 1, tensor(7): 1, tensor(14): 1, tensor(14): 1, tensor(8): 1, tensor(7): 1, tensor(14): 1, tensor(5): 1, tensor(15): 1, tensor(10): 1, tensor(4): 1, tensor(15): 1, tensor(14): 1, tensor(10): 1, tensor(18): 1, tensor(10): 1, tensor(10): 1, tensor(17): 1, tensor(11): 1, tensor(14): 1, tensor(5): 1, tensor(18): 1, tensor(12): 1, tensor(18): 1, tensor(10): 1, tensor(14): 1, tensor(18): 1, tensor(5): 1, tensor(7): 1, tensor(14): 1, tensor(18): 1, tensor(18): 1, tensor(5): 1, tensor(18): 1, tensor(5): 1, tensor(10): 1, tensor(8): 1, tensor(10): 1, tensor(5): 1, tensor(18): 1, tensor(11): 1, tensor(14): 1, tensor(0): 1, tensor(18): 1, tensor(10): 1, tensor(18): 1, tensor(11): 1, tensor(11): 1, tensor(7): 1, tensor(4): 1, tensor(0): 1, tensor(10): 1, tensor(0): 1, tensor(5): 1, tensor(18): 1, tensor(8): 1, tensor(18): 1, tensor(5): 1, tensor(18): 1, tensor(10): 1, tensor(14): 1, tensor(18): 1, tensor(4): 1, tensor(5): 1, tensor(18): 1, tensor(5): 1, tensor(18): 1, tensor(18): 1, tensor(7): 1, tensor(14): 1, tensor(15): 1, tensor(5): 1, tensor(12): 1, tensor(18): 1, tensor(5): 1, tensor(5): 1, tensor(5): 1, tensor(12): 1, tensor(18): 1, tensor(0): 1, tensor(10): 1, tensor(14): 1, tensor(15): 1, tensor(12): 1, tensor(18): 1, tensor(10): 1, tensor(14): 1, tensor(11): 1, tensor(0): 1, tensor(18): 1, tensor(10): 1, tensor(17): 1, tensor(15): 1, tensor(0): 1, tensor(18): 1, tensor(7): 1, tensor(11): 1, tensor(14): 1, tensor(5): 1, tensor(18): 1, tensor(10): 1, tensor(10): 1, tensor(5): 1, tensor(0): 1, tensor(18): 1, tensor(14): 1, tensor(10): 1, tensor(10): 1, tensor(11): 1, tensor(14): 1, tensor(10): 1, tensor(4): 1, tensor(11): 1, tensor(14): 1, tensor(10): 1, tensor(5): 1, tensor(0): 1, tensor(18): 1, tensor(11): 1, tensor(1): 1, tensor(14): 1, tensor(10): 1, tensor(10): 1, tensor(17): 1, tensor(11): 1, tensor(15): 1, tensor(0): 1, tensor(10): 1, tensor(7): 1, tensor(14): 1, tensor(5): 1, tensor(15): 1, tensor(8): 1, tensor(7): 1, tensor(14): 1, tensor(10): 1, tensor(7): 1, tensor(8): 1, tensor(15): 1, tensor(15): 1, tensor(14): 1, tensor(10): 1, tensor(17): 1, tensor(11): 1, tensor(18): 1, tensor(8): 1, tensor(18): 1, tensor(5): 1, tensor(18): 1, tensor(5): 1, tensor(12): 1, tensor(18): 1, tensor(14): 1, tensor(10): 1, tensor(17): 1, tensor(15): 1, tensor(18): 1, tensor(0): 1, tensor(10): 1, tensor(0): 1, tensor(18): 1, tensor(7): 1, tensor(14): 1, tensor(8): 1, tensor(17): 1, tensor(15): 1, tensor(14): 1, tensor(5): 1, tensor(18): 1, tensor(15): 1, tensor(7): 1, tensor(7): 1, tensor(15): 1, tensor(14): 1, tensor(10): 1, tensor(5): 1, tensor(3): 1, tensor(5): 1, tensor(18): 1, tensor(15): 1, tensor(11): 1, tensor(18): 1, tensor(5): 1, tensor(18): 1, tensor(9): 1, tensor(1): 1, tensor(1): 1, tensor(14): 1, tensor(10): 1, tensor(17): 1, tensor(4): 1, tensor(0): 1, tensor(14): 1, tensor(18): 1, tensor(5): 1, tensor(0): 1, tensor(18): 1, tensor(10): 1, tensor(11): 1, tensor(0): 1, tensor(7): 1, tensor(14): 1, tensor(5): 1, tensor(18): 1, tensor(12): 1, tensor(18): 1, tensor(10): 1, tensor(5): 1, tensor(5): 1, tensor(18): 1, tensor(0): 1, tensor(18): 1, tensor(10): 1, tensor(12): 1, tensor(18): 1, tensor(7): 1, tensor(18): 1, tensor(10): 1, tensor(7): 1, tensor(18): 1, tensor(10): 1, tensor(7): 1, tensor(18): 1, tensor(5): 1, tensor(18): 1, tensor(8): 1, tensor(7): 1, tensor(18): 1, tensor(8): 1, tensor(18): 1, tensor(7): 1, tensor(18): 1, tensor(5): 1, tensor(18): 1, tensor(0): 1, tensor(0): 1, tensor(10): 1, tensor(18): 1, tensor(10): 1, tensor(18): 1, tensor(10): 1, tensor(5): 1, tensor(18): 1, tensor(7): 1, tensor(18): 1, tensor(5): 1, tensor(18): 1, tensor(7): 1, tensor(18): 1, tensor(10): 1, tensor(18): 1, tensor(18): 1, tensor(7): 1, tensor(18): 1, tensor(5): 1, tensor(18): 1, tensor(8): 1, tensor(5): 1, tensor(18): 1, tensor(10): 1, tensor(5): 1, tensor(5): 1, tensor(3): 1, tensor(18): 1, tensor(14): 1, tensor(15): 1, tensor(4): 1, tensor(10): 1, tensor(18): 1, tensor(11): 1, tensor(0): 1, tensor(7): 1, tensor(5): 1, tensor(18): 1, tensor(5): 1, tensor(18): 1, tensor(10): 1, tensor(18): 1, tensor(11): 1, tensor(0): 1, tensor(10): 1, tensor(18): 1, tensor(14): 1, tensor(5): 1, tensor(0): 1, tensor(18): 1, tensor(10): 1, tensor(18): 1, tensor(18): 1, tensor(11): 1, tensor(0): 1, tensor(5): 1, tensor(0): 1, tensor(18): 1, tensor(18): 1, tensor(10): 1, tensor(5): 1, tensor(0): 1, tensor(18): 1, tensor(14): 1, tensor(18): 1, tensor(8): 1, tensor(0): 1, tensor(18): 1, tensor(10): 1, tensor(11): 1, tensor(5): 1, tensor(15): 1, tensor(12): 1, tensor(18): 1, tensor(7): 1, tensor(14): 1, tensor(12): 1, tensor(18): 1, tensor(5): 1, tensor(1): 1, tensor(10): 1, tensor(11): 1, tensor(5): 1, tensor(18): 1, tensor(7): 1, tensor(3): 1, tensor(12): 1, tensor(18): 1, tensor(7): 1, tensor(14): 1, tensor(18): 1, tensor(8): 1, tensor(14): 1, tensor(15): 1, tensor(12): 1, tensor(18): 1, tensor(5): 1, tensor(18): 1, tensor(18): 1, tensor(10): 1, tensor(5): 1, tensor(17): 1, tensor(7): 1, tensor(14): 1, tensor(5): 1, tensor(18): 1, tensor(10): 1}}\n"
     ]
    }
   ],
   "source": [
    "print(objects[0][0])"
   ]
  },
  {
   "cell_type": "code",
   "execution_count": null,
   "id": "stainless-smooth",
   "metadata": {},
   "outputs": [],
   "source": [
    "objects[0][0][\"beta\"].shape"
   ]
  },
  {
   "cell_type": "code",
   "execution_count": null,
   "id": "prospective-economics",
   "metadata": {},
   "outputs": [],
   "source": [
    "print(objects[0][1][\"theta\"])"
   ]
  },
  {
   "cell_type": "code",
   "execution_count": null,
   "id": "australian-southeast",
   "metadata": {},
   "outputs": [],
   "source": [
    "# theta = objects[0][1][\"theta\"]"
   ]
  },
  {
   "cell_type": "code",
   "execution_count": null,
   "id": "choice-shepherd",
   "metadata": {},
   "outputs": [],
   "source": [
    "vocab = objects[0][2][\"vocab\"]"
   ]
  },
  {
   "cell_type": "code",
   "execution_count": null,
   "id": "military-chassis",
   "metadata": {},
   "outputs": [],
   "source": [
    "len(vocab)"
   ]
  },
  {
   "cell_type": "code",
   "execution_count": null,
   "id": "impressed-closure",
   "metadata": {},
   "outputs": [],
   "source": [
    "vocab_items = list(zip(*sorted(vocab.items(), key=lambda x: x[1])))[0]"
   ]
  },
  {
   "cell_type": "code",
   "execution_count": null,
   "id": "solved-smell",
   "metadata": {},
   "outputs": [],
   "source": [
    "vocab_items"
   ]
  },
  {
   "cell_type": "code",
   "execution_count": null,
   "id": "arranged-cream",
   "metadata": {},
   "outputs": [],
   "source": [
    "len(vocab_items)"
   ]
  },
  {
   "cell_type": "code",
   "execution_count": null,
   "id": "resident-retention",
   "metadata": {},
   "outputs": [],
   "source": [
    "doc1 = \"One of the other reviewers has mentioned that after watching just 1 Oz episode you'll be hooked. They are right, as this is exactly what happened with me.<br /><br />The first thing that struck me about Oz was its brutality and unflinching scenes of violence, which set in right from the word GO. Trust me, this is not a show for the faint hearted or timid. This show pulls no punches with regards to drugs, sex or violence. Its is hardcore, in the classic use of the word.<br /><br />It is called OZ as that is the nickname given to the Oswald Maximum Security State Penitentary. It focuses mainly on Emerald City, an experimental section of the prison where all the cells have glass fronts and face inwards, so privacy is not high on the agenda. Em City is home to many..Aryans, Muslims, gangstas, Latinos, Christians, Italians, Irish and more....so scuffles, death stares, dodgy dealings and shady agreements are never far away.<br /><br />I would say the main appeal of the show is due to the fact that it goes where other shows wouldn't dare. Forget pretty pictures painted for mainstream audiences, forget charm, forget romance...OZ doesn't mess around. The first episode I ever saw struck me as so nasty it was surreal, I couldn't say I was ready for it, but as I watched more, I developed a taste for Oz, and got accustomed to the high levels of graphic violence. Not just violence, but injustice (crooked guards who'll be sold out for a nickel, inmates who'll kill on order and get away with it, well mannered, middle class inmates being turned into prison bitches due to their lack of street skills or prison experience) Watching Oz, you may become comfortable with what is uncomfortable viewing....thats if you can get in touch with your darker side.\""
   ]
  },
  {
   "cell_type": "code",
   "execution_count": null,
   "id": "under-census",
   "metadata": {},
   "outputs": [],
   "source": [
    "objects[0][1][\"theta\"][0]"
   ]
  },
  {
   "cell_type": "markdown",
   "id": "descending-protein",
   "metadata": {},
   "source": [
    "# Topic threshold = 0.85\n",
    "# Word threshold = 0.70"
   ]
  },
  {
   "cell_type": "code",
   "execution_count": null,
   "id": "limiting-japan",
   "metadata": {},
   "outputs": [],
   "source": [
    "# import random\n",
    "# beta = []\n",
    "# randomlist = []\n",
    "# for i in range(5):\n",
    "#     randomlist = []\n",
    "#     for i in range(0,7238):\n",
    "#         n = random.randint(1,15000)\n",
    "#         randomlist.append(n)\n",
    "#     randomlist = [x / sum(randomlist) for x in randomlist]\n",
    "#     beta.append(randomlist)\n",
    "\n",
    "    "
   ]
  },
  {
   "cell_type": "code",
   "execution_count": null,
   "id": "proof-brunswick",
   "metadata": {},
   "outputs": [],
   "source": [
    "# import numpy as np\n",
    "# beta = np.array(beta)"
   ]
  },
  {
   "cell_type": "code",
   "execution_count": null,
   "id": "copyrighted-metabolism",
   "metadata": {},
   "outputs": [],
   "source": [
    "beta = objects[0][0][\"beta\"]"
   ]
  },
  {
   "cell_type": "code",
   "execution_count": null,
   "id": "written-meaning",
   "metadata": {},
   "outputs": [],
   "source": [
    "theta = objects[0][1][\"theta\"]"
   ]
  },
  {
   "cell_type": "code",
   "execution_count": null,
   "id": "conscious-possible",
   "metadata": {},
   "outputs": [],
   "source": [
    "# np.sum(beta[0])"
   ]
  },
  {
   "cell_type": "code",
   "execution_count": null,
   "id": "insured-kansas",
   "metadata": {},
   "outputs": [],
   "source": [
    "# for j in beta[0].argsort()[:-10 - 1:-1]:\n",
    "#     print(j)"
   ]
  },
  {
   "cell_type": "code",
   "execution_count": null,
   "id": "agreed-washington",
   "metadata": {},
   "outputs": [],
   "source": [
    "beta"
   ]
  },
  {
   "cell_type": "code",
   "execution_count": null,
   "id": "grateful-yesterday",
   "metadata": {},
   "outputs": [],
   "source": [
    "beta.shape"
   ]
  },
  {
   "cell_type": "code",
   "execution_count": null,
   "id": "fifth-wrestling",
   "metadata": {},
   "outputs": [],
   "source": [
    "# theta.shape[1]"
   ]
  },
  {
   "cell_type": "code",
   "execution_count": null,
   "id": "virtual-camping",
   "metadata": {},
   "outputs": [],
   "source": [
    "# theta.shape[0]"
   ]
  },
  {
   "cell_type": "code",
   "execution_count": null,
   "id": "bound-compiler",
   "metadata": {},
   "outputs": [],
   "source": [
    "# topic = \n",
    "# for i in range(theta.shape[1]):\n",
    "#     x = theta[i].argsort()[:-len(theta.shape[0])-1 :-1]\n",
    "    \n",
    "    "
   ]
  },
  {
   "cell_type": "code",
   "execution_count": null,
   "id": "nearby-deployment",
   "metadata": {},
   "outputs": [],
   "source": [
    "theta[0][0]"
   ]
  },
  {
   "cell_type": "code",
   "execution_count": null,
   "id": "mathematical-divide",
   "metadata": {},
   "outputs": [],
   "source": [
    "theta[0][0].shape"
   ]
  },
  {
   "cell_type": "code",
   "execution_count": null,
   "id": "popular-insured",
   "metadata": {},
   "outputs": [],
   "source": [
    "# x = theta[0].argsort()[:-len(theta[0])-1 :-1]\n",
    "# # for i in x[0]:\n",
    "# #     print(i)"
   ]
  },
  {
   "cell_type": "markdown",
   "id": "molecular-tobago",
   "metadata": {},
   "source": [
    "Topic threshold"
   ]
  },
  {
   "cell_type": "code",
   "execution_count": null,
   "id": "accessory-daughter",
   "metadata": {},
   "outputs": [],
   "source": [
    "x = theta[0].argsort()[:-len(theta[0])-1 :-1]\n",
    "topic_prob = 0\n",
    "topic_list = []\n",
    "for i in x[0]:\n",
    "    topic_prob = topic_prob + theta[0][0][i]\n",
    "    topic_list.append(i)\n",
    "    if topic_prob >= 0.85:\n",
    "        break"
   ]
  },
  {
   "cell_type": "code",
   "execution_count": null,
   "id": "adult-austin",
   "metadata": {},
   "outputs": [],
   "source": [
    "topic_list"
   ]
  },
  {
   "cell_type": "code",
   "execution_count": null,
   "id": "sonic-theater",
   "metadata": {},
   "outputs": [],
   "source": [
    "t = []\n",
    "for i in range(len(beta)):\n",
    "    p = beta[i].argsort()[:-len(beta[i])-1 :-1]\n",
    "    t.append(p)"
   ]
  },
  {
   "cell_type": "code",
   "execution_count": null,
   "id": "incredible-mainland",
   "metadata": {},
   "outputs": [],
   "source": [
    "t = np.array(t)"
   ]
  },
  {
   "cell_type": "code",
   "execution_count": null,
   "id": "genetic-remains",
   "metadata": {},
   "outputs": [],
   "source": [
    "t"
   ]
  },
  {
   "cell_type": "code",
   "execution_count": null,
   "id": "enclosed-waste",
   "metadata": {},
   "outputs": [],
   "source": [
    "reversed_vocab = {value : key for (key, value) in vocab.items()}"
   ]
  },
  {
   "cell_type": "code",
   "execution_count": null,
   "id": "outer-arthur",
   "metadata": {},
   "outputs": [],
   "source": [
    "p = []\n",
    "for i in range(len(topic_list)):\n",
    "    sum1 = 0\n",
    "    for j in t[topic_list[i]]:\n",
    "        sum1 = sum1 + beta[topic_list[i]][j]\n",
    "        if sum1 > 0.70:\n",
    "            break\n",
    "        else:\n",
    "            p.append(j)"
   ]
  },
  {
   "cell_type": "code",
   "execution_count": null,
   "id": "differential-coach",
   "metadata": {},
   "outputs": [],
   "source": [
    "p"
   ]
  },
  {
   "cell_type": "code",
   "execution_count": null,
   "id": "affected-project",
   "metadata": {},
   "outputs": [],
   "source": [
    "len(p)"
   ]
  },
  {
   "cell_type": "code",
   "execution_count": null,
   "id": "surprised-confusion",
   "metadata": {},
   "outputs": [],
   "source": [
    "theta"
   ]
  },
  {
   "cell_type": "code",
   "execution_count": null,
   "id": "animated-section",
   "metadata": {},
   "outputs": [],
   "source": [
    "vocab_list = []\n",
    "for i in p:\n",
    "    vocab_list.append(reversed_vocab[i])\n",
    "#     vocab_list[reversed_vocab[i]] = 1"
   ]
  },
  {
   "cell_type": "code",
   "execution_count": null,
   "id": "ultimate-joyce",
   "metadata": {},
   "outputs": [],
   "source": [
    "len(vocab_list)"
   ]
  },
  {
   "cell_type": "code",
   "execution_count": null,
   "id": "utility-shoulder",
   "metadata": {},
   "outputs": [],
   "source": [
    "vocab_list = set(vocab_list)"
   ]
  },
  {
   "cell_type": "code",
   "execution_count": null,
   "id": "fitted-narrow",
   "metadata": {},
   "outputs": [],
   "source": [
    "vocab_list = dict.fromkeys(vocab_list,0)"
   ]
  },
  {
   "cell_type": "code",
   "execution_count": null,
   "id": "reported-jamaica",
   "metadata": {},
   "outputs": [],
   "source": [
    "with open(\"krapivin_n_comp_merged_terms.txt\", \"r\") as f:\n",
    "    lines = f.readlines()"
   ]
  },
  {
   "cell_type": "code",
   "execution_count": null,
   "id": "efficient-rolling",
   "metadata": {},
   "outputs": [],
   "source": [
    "for i in range(len(lines)):\n",
    "    lines[i] = lines[i].strip()"
   ]
  },
  {
   "cell_type": "code",
   "execution_count": null,
   "id": "behind-courage",
   "metadata": {},
   "outputs": [],
   "source": [
    "count = 0\n",
    "for i in range(len(lines)):\n",
    "    if lines[i] in vocab_list:\n",
    "        count = count + 1"
   ]
  },
  {
   "cell_type": "code",
   "execution_count": null,
   "id": "maritime-breed",
   "metadata": {},
   "outputs": [],
   "source": [
    "len(lines)"
   ]
  },
  {
   "cell_type": "code",
   "execution_count": null,
   "id": "related-matter",
   "metadata": {},
   "outputs": [],
   "source": [
    "count"
   ]
  },
  {
   "cell_type": "markdown",
   "id": "documented-theme",
   "metadata": {},
   "source": [
    "# Precision"
   ]
  },
  {
   "cell_type": "code",
   "execution_count": null,
   "id": "loose-renaissance",
   "metadata": {},
   "outputs": [],
   "source": [
    "1581/len(vocab_list)"
   ]
  },
  {
   "cell_type": "markdown",
   "id": "protecting-developer",
   "metadata": {},
   "source": [
    "# Recall"
   ]
  },
  {
   "cell_type": "code",
   "execution_count": null,
   "id": "documentary-salmon",
   "metadata": {},
   "outputs": [],
   "source": [
    "1581/len(lines)"
   ]
  }
 ],
 "metadata": {
  "kernelspec": {
   "display_name": "Python 3",
   "language": "python",
   "name": "python3"
  },
  "language_info": {
   "codemirror_mode": {
    "name": "ipython",
    "version": 3
   },
   "file_extension": ".py",
   "mimetype": "text/x-python",
   "name": "python",
   "nbconvert_exporter": "python",
   "pygments_lexer": "ipython3",
   "version": "3.8.3"
  }
 },
 "nbformat": 4,
 "nbformat_minor": 5
}
